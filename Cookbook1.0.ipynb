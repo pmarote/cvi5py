{
 "cells": [
  {
   "cell_type": "markdown",
   "id": "cfe08a7e-e51c-4f2a-ba46-50fc7ff48bc5",
   "metadata": {},
   "source": [
    "<a id='top'><img src=\"core/pn_i32.png\" width=\"32px\" style=\"float: center;\">\n",
    "<p style=\"text-align: center; font-size: 200%; font-weight: bold; margin-top: 10px;\">CVI5 Python Cookbook</a></p>\n",
    "<hr style=\" margin-top: 0px; margin-bottom: 0px; border-top-width: 0px;\">\n",
    "\n",
    "#### <div style=\"text-align: center\"><font color=\"navy\">CVI5 Python Cookbook são automações feitas com base nas bibliotecas do CVI5 python<br>Portátil, mazomenos leve, roda sem instalação do hd, ou do pendrive, utilizando WinPython<br><br></div>\n",
    "- `Frontend` jupyter notebook <span class=\"label label-info\"> 🚧 ToDo </span>\n",
    "- Acionamento de rotinas fazenda via **Pepe** <span class=\"label label-info\"> 🚧 ToDo </span>\n",
    "<p style=\"text-align: right; font-size: 75%; opacity: 0.5; margin-top: 0px;\">Origem: Grupo de Estudos NFe/SPED - DRT/13 - Guarulhos - Autor: AFRE Paulo Marote</p>"
   ]
  },
  {
   "cell_type": "markdown",
   "id": "7c0bc9e9",
   "metadata": {},
   "source": [
    "<div class=\"list-group\" id=\"list-tab\" role=\"tablist\">\n",
    "  <h3 class=\"list-group-item list-group-item-action active\" data-toggle=\"list\"  role=\"tab\" aria-controls=\"home\">Menu Principal</h3>\n",
    "  <a class=\"list-group-item list-group-item-action\" data-toggle=\"list\" href=\"#libraries\" role=\"tab\" aria-controls=\"profile\">Importação das Libraries<span class=\"badge badge-primary badge-pill\">1</span></a>\n",
    "  <a class=\"list-group-item list-group-item-action\" data-toggle=\"list\" href=\"#instagram\" role=\"tab\" aria-controls=\"messages\">Instagram<span class=\"badge badge-primary badge-pill\">2</span></a>\n",
    "  <a class=\"list-group-item list-group-item-action\"  data-toggle=\"list\" href=\"#audits\" role=\"tab\" aria-controls=\"settings\">Lista de Auditorias<span class=\"badge badge-primary badge-pill\">3</span></a>\n",
    "  <a class=\"list-group-item list-group-item-action\"  data-toggle=\"list\" href=\"#utils\" role=\"tab\" aria-controls=\"settings\">Utilitários<span class=\"badge badge-primary badge-pill\">4</span></a>\n",
    "  <a class=\"list-group-item list-group-item-action\" data-toggle=\"list\" href=\"#links\" role=\"tab\" aria-controls=\"settings\">Cursos e Links Úteis<span class=\"badge badge-primary badge-pill\">Anexo</span></a>\n",
    "</div>"
   ]
  },
  {
   "cell_type": "markdown",
   "id": "685417e8",
   "metadata": {},
   "source": [
    "## ✅ Imports<a href=\"#top\"><span style=\"float: right;\">🔝</span></a><a id=\"libraries\"></a>"
   ]
  },
  {
   "cell_type": "code",
   "execution_count": 1,
   "id": "78507863",
   "metadata": {},
   "outputs": [
    {
     "name": "stdout",
     "output_type": "stream",
     "text": [
      "os.getenv(\"HTTP_PROXY\"): None\n",
      "CURRENT_PID = 2032\n",
      "CVI_RES = O:\\srcP\\cvi5\\res\n",
      "CVI_RESULT = O:\\srcP\\cvi5\\var\\result\n",
      "CVI_SOURCE = O:\\srcP\\cvi5\\var\\source\n",
      "CVI_SYS_DATA_FILENAME = O:\\srcP\\cvi5\\var\\cvi_sys.json\n",
      "CVI_USR = O:\\srcP\\cvi5\\usr\n",
      "CVI_VAR = O:\\srcP\\cvi5\\var\n",
      "PROJECT_NAME = CVI\n",
      "PROJECT_VERSION = 5.1.2306\n"
     ]
    }
   ],
   "source": [
    "from selenium import webdriver\n",
    "from selenium.webdriver.common.keys import Keys\n",
    "from selenium.webdriver.support import expected_conditions as EC\n",
    "from selenium.webdriver.common.by import By\n",
    "from selenium.webdriver.support.wait import WebDriverWait\n",
    "import time\n",
    "import os\n",
    "import wget\n",
    "from pycvi.Config import Config\n",
    "config = Config()\n",
    "from IPython.display import display, HTML\n",
    "# VERIFIQUE SE OS SETTINGS ESTÃO PERFEITOS !\n",
    "config.printSettings(full=False)"
   ]
  },
  {
   "cell_type": "code",
   "execution_count": 2,
   "id": "105ee4a9",
   "metadata": {},
   "outputs": [],
   "source": [
    "# Inicialização do Navegador Edge - Verifique se ele foi aberto\n",
    "from selenium.webdriver.edge.service import Service\n",
    "s = Service(os.path.join(config.CVI_USR, 'edgedriver_win64', 'msedgedriver.exe'))\n",
    "driver = webdriver.Edge(service=s)"
   ]
  },
  {
   "cell_type": "markdown",
   "id": "1907c0bc",
   "metadata": {},
   "source": [
    "## 📝 Cadesp<a href=\"#top\"><span style=\"float: right;\">🔝</span></a><a id=\"cadesp\"></a>"
   ]
  },
  {
   "cell_type": "code",
   "execution_count": 3,
   "id": "9d2f9afb",
   "metadata": {},
   "outputs": [],
   "source": [
    "driver.get(\"https://www.cadesp.fazenda.sp.gov.br/\")"
   ]
  },
  {
   "cell_type": "code",
   "execution_count": 4,
   "id": "91ff152b",
   "metadata": {},
   "outputs": [],
   "source": [
    "tpusuario = WebDriverWait(driver, 10).until(EC.element_to_be_clickable((By.NAME, \"ctl00$conteudoPaginaPlaceHolder$loginControl$TipoUsuarioDropDownList\")))\n",
    "tpusuario.send_keys(\"f\", Keys.ENTER)"
   ]
  },
  {
   "cell_type": "markdown",
   "id": "31e2a62e",
   "metadata": {},
   "source": [
    "### agora faça o login manualmente e prossiga abaixo...."
   ]
  },
  {
   "cell_type": "code",
   "execution_count": null,
   "id": "ad22400c",
   "metadata": {},
   "outputs": [],
   "source": [
    "# consultando e imprimindo uma IE\n",
    "destin = driver.current_url[:-21] + \"/Pages/Cadastro/Consultas/ConsultaCompleta/ConsultaCompleta.aspx\"\n",
    "driver.get(destin)\n",
    "ie = WebDriverWait(driver, 10).until(EC.element_to_be_clickable((By.NAME, \"ctl00$conteudoPaginaPlaceHolder$tcConsultaCompleta$TabPanel1$txtIdentificacao\")))\n",
    "ie.send_keys('336810663117', Keys.ENTER)\n",
    "prim_href = WebDriverWait(driver, 10).until(EC.element_to_be_clickable((By.ID, \"ctl00_conteudoPaginaPlaceHolder_dlConsultaCompletaEstabelecimento_ctl01_linkButtonEstabelecimento\")))\n",
    "prim_href.click()\n",
    "button_imprimir = WebDriverWait(driver, 2).until(EC.element_to_be_clickable((By.NAME, \"ctl00$conteudoPaginaPlaceHolder$btnImprimir\")))\n",
    "button_imprimir.click()\n",
    "button_marcar_todos = WebDriverWait(driver, 2).until(EC.element_to_be_clickable((By.NAME, \"ctl00$conteudoPaginaPlaceHolder$btnMarcar\")))\n",
    "button_marcar_todos.click()\n",
    "button_imprimir2 = WebDriverWait(driver, 2).until(EC.element_to_be_clickable((By.NAME, \"ctl00$conteudoPaginaPlaceHolder$btnMenuImprimir\")))\n",
    "button_imprimir2.click()\n",
    "button_imprimir3 = WebDriverWait(driver, 2).until(EC.element_to_be_clickable((By.NAME, \"ctl00$conteudoPaginaPlaceHolder$btnImprimir\")))\n",
    "button_imprimir3.click()"
   ]
  },
  {
   "cell_type": "code",
   "execution_count": 7,
   "id": "11307d14",
   "metadata": {},
   "outputs": [],
   "source": [
    "# Atos de Ofício\n",
    "destin = driver.current_url[:-21] + \"/Pages/SincronizacaoRFB/HomologacaoSolicitacoesRFB/HomologacaoSolicitacoes.aspx\"\n",
    "driver.get(destin)\n",
    "drt = WebDriverWait(driver, 10).until(EC.element_to_be_clickable((By.NAME, \"ctl00$conteudoPaginaPlaceHolder$ddlDRT\")))\n",
    "drt.send_keys(\"DRT-13\", Keys.ENTER)\n"
   ]
  },
  {
   "cell_type": "markdown",
   "id": "43b52e0f",
   "metadata": {},
   "source": [
    "### EMAIL"
   ]
  },
  {
   "cell_type": "code",
   "execution_count": 6,
   "id": "4c9477e7",
   "metadata": {},
   "outputs": [
    {
     "ename": "TimeoutException",
     "evalue": "Message: \nStacktrace:\nBacktrace:\n\tGetHandleVerifier [0x00007FF71C4BB2A2+63826]\n\tMicrosoft::Applications::Events::EventProperty::~EventProperty [0x00007FF71C44C532+772578]\n\t(No symbol) [0x00007FF71C1FCC1C]\n\t(No symbol) [0x00007FF71C240BBC]\n\t(No symbol) [0x00007FF71C240D47]\n\t(No symbol) [0x00007FF71C27AC27]\n\t(No symbol) [0x00007FF71C25F01F]\n\t(No symbol) [0x00007FF71C234B91]\n\t(No symbol) [0x00007FF71C277FD1]\n\t(No symbol) [0x00007FF71C25EDB3]\n\t(No symbol) [0x00007FF71C233BCE]\n\t(No symbol) [0x00007FF71C232DA5]\n\t(No symbol) [0x00007FF71C234344]\n\tMicrosoft::Applications::Events::ILogManager::DispatchEventBroadcast [0x00007FF71C691439+1308425]\n\t(No symbol) [0x00007FF71C2AE818]\n\tMicrosoft::Applications::Events::EventProperty::~EventProperty [0x00007FF71C398221+34513]\n\tMicrosoft::Applications::Events::EventProperty::~EventProperty [0x00007FF71C390445+2293]\n\tMicrosoft::Applications::Events::ILogManager::DispatchEventBroadcast [0x00007FF71C690053+1303331]\n\tMicrosoft::Applications::Events::ILogConfiguration::operator* [0x00007FF71C454C08+20344]\n\tMicrosoft::Applications::Events::ILogConfiguration::operator* [0x00007FF71C451224+5524]\n\tMicrosoft::Applications::Events::ILogConfiguration::operator* [0x00007FF71C45131C+5772]\n\tMicrosoft::Applications::Events::EventProperty::~EventProperty [0x00007FF71C444F31+742369]\n\tBaseThreadInitThunk [0x00007FF90CCB7614+20]\n\tRtlUserThreadStart [0x00007FF90D7826A1+33]\n",
     "output_type": "error",
     "traceback": [
      "\u001b[1;31m---------------------------------------------------------------------------\u001b[0m",
      "\u001b[1;31mTimeoutException\u001b[0m                          Traceback (most recent call last)",
      "Cell \u001b[1;32mIn[6], line 4\u001b[0m\n\u001b[0;32m      2\u001b[0m pesquisar \u001b[38;5;241m=\u001b[39m WebDriverWait(driver, \u001b[38;5;241m10\u001b[39m)\u001b[38;5;241m.\u001b[39muntil(EC\u001b[38;5;241m.\u001b[39melement_to_be_clickable((By\u001b[38;5;241m.\u001b[39mID, \u001b[38;5;124m\"\u001b[39m\u001b[38;5;124mtopSearchInput\u001b[39m\u001b[38;5;124m\"\u001b[39m)))\n\u001b[0;32m      3\u001b[0m pesquisar\u001b[38;5;241m.\u001b[39msend_keys(\u001b[38;5;124m\"\u001b[39m\u001b[38;5;124mpepe\u001b[39m\u001b[38;5;124m\"\u001b[39m, Keys\u001b[38;5;241m.\u001b[39mENTER)\n\u001b[1;32m----> 4\u001b[0m msg \u001b[38;5;241m=\u001b[39m \u001b[43mWebDriverWait\u001b[49m\u001b[43m(\u001b[49m\u001b[43mdriver\u001b[49m\u001b[43m,\u001b[49m\u001b[43m \u001b[49m\u001b[38;5;241;43m10\u001b[39;49m\u001b[43m)\u001b[49m\u001b[38;5;241;43m.\u001b[39;49m\u001b[43muntil\u001b[49m\u001b[43m(\u001b[49m\u001b[43mEC\u001b[49m\u001b[38;5;241;43m.\u001b[39;49m\u001b[43melement_to_be_clickable\u001b[49m\u001b[43m(\u001b[49m\u001b[43m(\u001b[49m\u001b[43mBy\u001b[49m\u001b[38;5;241;43m.\u001b[39;49m\u001b[43mCLASS_NAME\u001b[49m\u001b[43m,\u001b[49m\u001b[43m \u001b[49m\u001b[38;5;124;43m\"\u001b[39;49m\u001b[38;5;124;43mhcptT gDC9O\u001b[39;49m\u001b[38;5;124;43m\"\u001b[39;49m\u001b[43m)\u001b[49m\u001b[43m)\u001b[49m\u001b[43m)\u001b[49m\n\u001b[0;32m      5\u001b[0m msg\u001b[38;5;241m.\u001b[39mclick()\n",
      "File \u001b[1;32mO:\\srcP\\cvi5\\usr\\WPy64-31090\\python-3.10.9.amd64\\lib\\site-packages\\selenium\\webdriver\\support\\wait.py:95\u001b[0m, in \u001b[0;36mWebDriverWait.until\u001b[1;34m(self, method, message)\u001b[0m\n\u001b[0;32m     93\u001b[0m     \u001b[38;5;28;01mif\u001b[39;00m time\u001b[38;5;241m.\u001b[39mmonotonic() \u001b[38;5;241m>\u001b[39m end_time:\n\u001b[0;32m     94\u001b[0m         \u001b[38;5;28;01mbreak\u001b[39;00m\n\u001b[1;32m---> 95\u001b[0m \u001b[38;5;28;01mraise\u001b[39;00m TimeoutException(message, screen, stacktrace)\n",
      "\u001b[1;31mTimeoutException\u001b[0m: Message: \nStacktrace:\nBacktrace:\n\tGetHandleVerifier [0x00007FF71C4BB2A2+63826]\n\tMicrosoft::Applications::Events::EventProperty::~EventProperty [0x00007FF71C44C532+772578]\n\t(No symbol) [0x00007FF71C1FCC1C]\n\t(No symbol) [0x00007FF71C240BBC]\n\t(No symbol) [0x00007FF71C240D47]\n\t(No symbol) [0x00007FF71C27AC27]\n\t(No symbol) [0x00007FF71C25F01F]\n\t(No symbol) [0x00007FF71C234B91]\n\t(No symbol) [0x00007FF71C277FD1]\n\t(No symbol) [0x00007FF71C25EDB3]\n\t(No symbol) [0x00007FF71C233BCE]\n\t(No symbol) [0x00007FF71C232DA5]\n\t(No symbol) [0x00007FF71C234344]\n\tMicrosoft::Applications::Events::ILogManager::DispatchEventBroadcast [0x00007FF71C691439+1308425]\n\t(No symbol) [0x00007FF71C2AE818]\n\tMicrosoft::Applications::Events::EventProperty::~EventProperty [0x00007FF71C398221+34513]\n\tMicrosoft::Applications::Events::EventProperty::~EventProperty [0x00007FF71C390445+2293]\n\tMicrosoft::Applications::Events::ILogManager::DispatchEventBroadcast [0x00007FF71C690053+1303331]\n\tMicrosoft::Applications::Events::ILogConfiguration::operator* [0x00007FF71C454C08+20344]\n\tMicrosoft::Applications::Events::ILogConfiguration::operator* [0x00007FF71C451224+5524]\n\tMicrosoft::Applications::Events::ILogConfiguration::operator* [0x00007FF71C45131C+5772]\n\tMicrosoft::Applications::Events::EventProperty::~EventProperty [0x00007FF71C444F31+742369]\n\tBaseThreadInitThunk [0x00007FF90CCB7614+20]\n\tRtlUserThreadStart [0x00007FF90D7826A1+33]\n"
     ]
    }
   ],
   "source": [
    "driver.get(\"https://outlook.office.com/mail/\")\n",
    "pesquisar = WebDriverWait(driver, 10).until(EC.element_to_be_clickable((By.ID, \"topSearchInput\")))\n",
    "pesquisar.send_keys(\"pepe\", Keys.ENTER)\n",
    "msg = WebDriverWait(driver, 10).until(EC.element_to_be_clickable((By.CLASS_NAME, \"hcptT gDC9O\")))\n",
    "msg.click()\n"
   ]
  },
  {
   "cell_type": "code",
   "execution_count": 8,
   "id": "c8d4dc0f",
   "metadata": {},
   "outputs": [],
   "source": [
    "driver.get(\"https://www.documentos.spsempapel.sp.gov.br/siga/public/app/login?cont=https://www.documentos.spsempapel.sp.gov.br/siga/app/principal\")\n"
   ]
  },
  {
   "cell_type": "code",
   "execution_count": 9,
   "id": "8ab9e956",
   "metadata": {},
   "outputs": [
    {
     "ename": "SyntaxError",
     "evalue": "'(' was never closed (3366833235.py, line 1)",
     "output_type": "error",
     "traceback": [
      "\u001b[1;36m  Cell \u001b[1;32mIn[9], line 1\u001b[1;36m\u001b[0m\n\u001b[1;33m    unidade = WebDriverWait(driver, 10).until(EC.element_to_be_clickable((By.ID, \"dropdownLotaMenuButton\")\u001b[0m\n\u001b[1;37m                                                                        ^\u001b[0m\n\u001b[1;31mSyntaxError\u001b[0m\u001b[1;31m:\u001b[0m '(' was never closed\n"
     ]
    }
   ],
   "source": [
    "unidade = WebDriverWait(driver, 10).until(EC.element_to_be_clickable((By.ID, \"dropdownLotaMenuButton\")\n",
    "unidade.click()"
   ]
  },
  {
   "cell_type": "markdown",
   "id": "89eb4b13",
   "metadata": {},
   "source": [
    "## 📷 Instagram<a href=\"#top\"><span style=\"float: right;\">🔝</span></a><a id=\"instagram\"></a>"
   ]
  },
  {
   "cell_type": "code",
   "execution_count": 5,
   "id": "2c1dde89",
   "metadata": {
    "ExecuteTime": {
     "end_time": "2023-03-27T00:43:17.120126Z",
     "start_time": "2023-03-27T00:43:16.871672Z"
    },
    "tags": []
   },
   "outputs": [],
   "source": [
    "# from https://www.youtube.com/watch?v=iJGvYBH9mcY\n",
    "#open the webpage\n",
    "driver.get(\"http://www.instagram.com\")\n",
    "\n",
    "#target username\n",
    "username = WebDriverWait(driver, 10).until(EC.element_to_be_clickable((By.CSS_SELECTOR, \"input[name='username']\")))\n",
    "password = WebDriverWait(driver, 10).until(EC.element_to_be_clickable((By.CSS_SELECTOR, \"input[name='password']\")))\n",
    "\n",
    "#enter username and password\n",
    "username.clear()\n",
    "username.send_keys(\"my_username\")\n",
    "password.clear()\n",
    "password.send_keys(\"my_password\")"
   ]
  },
  {
   "cell_type": "code",
   "execution_count": 5,
   "id": "afc22c95",
   "metadata": {},
   "outputs": [],
   "source": [
    "#target the login button and click it\n",
    "button = WebDriverWait(driver, 2).until(EC.element_to_be_clickable((By.CSS_SELECTOR, \"button[type='submit']\"))).click()\n",
    "\n",
    "#We are logged in!"
   ]
  },
  {
   "cell_type": "code",
   "execution_count": 6,
   "id": "60e46453",
   "metadata": {},
   "outputs": [
    {
     "ename": "SyntaxError",
     "evalue": "invalid syntax. Perhaps you forgot a comma? (2064339744.py, line 1)",
     "output_type": "error",
     "traceback": [
      "\u001b[1;36m  Cell \u001b[1;32mIn[6], line 1\u001b[1;36m\u001b[0m\n\u001b[1;33m    button = WebDriverWait(driver, 2).until(EC.element_to_be_clickable((By.CSS_SELECTOR, \"button[class=\"ctl00_menuPlaceHolder_menuControl1_LoginView1_menuSuperior_1 menuSuperiorLevel1\"]\"))).click()\u001b[0m\n\u001b[1;37m                                                                                         ^\u001b[0m\n\u001b[1;31mSyntaxError\u001b[0m\u001b[1;31m:\u001b[0m invalid syntax. Perhaps you forgot a comma?\n"
     ]
    }
   ],
   "source": [
    "button = WebDriverWait(driver, 2).until(EC.element_to_be_clickable((By.CSS_SELECTOR, \"button[class=\"ctl00_menuPlaceHolder_menuControl1_LoginView1_menuSuperior_1 menuSuperiorLevel1\"]\"))).click()"
   ]
  },
  {
   "cell_type": "markdown",
   "id": "1bb2d3e8",
   "metadata": {},
   "source": [
    "### Search keywords"
   ]
  },
  {
   "cell_type": "code",
   "execution_count": 6,
   "id": "5e76ecf0",
   "metadata": {},
   "outputs": [
    {
     "ename": "StaleElementReferenceException",
     "evalue": "Message: stale element reference: stale element not found\n  (Session info: MicrosoftEdge=114.0.1823.37)\nStacktrace:\nBacktrace:\n\tGetHandleVerifier [0x00007FF63E6FB2A2+63826]\n\tMicrosoft::Applications::Events::EventProperty::~EventProperty [0x00007FF63E68C532+772578]\n\t(No symbol) [0x00007FF63E43CC1C]\n\t(No symbol) [0x00007FF63E441F20]\n\t(No symbol) [0x00007FF63E443A24]\n\t(No symbol) [0x00007FF63E443B10]\n\t(No symbol) [0x00007FF63E481A18]\n\t(No symbol) [0x00007FF63E481937]\n\t(No symbol) [0x00007FF63E481AAE]\n\t(No symbol) [0x00007FF63E4781D7]\n\t(No symbol) [0x00007FF63E49EFDA]\n\t(No symbol) [0x00007FF63E474B91]\n\t(No symbol) [0x00007FF63E474A61]\n\t(No symbol) [0x00007FF63E49F310]\n\t(No symbol) [0x00007FF63E474B91]\n\t(No symbol) [0x00007FF63E4B7FD1]\n\t(No symbol) [0x00007FF63E49EDB3]\n\t(No symbol) [0x00007FF63E473BCE]\n\t(No symbol) [0x00007FF63E472DA5]\n\t(No symbol) [0x00007FF63E474344]\n\tMicrosoft::Applications::Events::ILogManager::DispatchEventBroadcast [0x00007FF63E8D1439+1308425]\n\t(No symbol) [0x00007FF63E4EE818]\n\tMicrosoft::Applications::Events::EventProperty::~EventProperty [0x00007FF63E5D8221+34513]\n\tMicrosoft::Applications::Events::EventProperty::~EventProperty [0x00007FF63E5D0445+2293]\n\tMicrosoft::Applications::Events::ILogManager::DispatchEventBroadcast [0x00007FF63E8D0053+1303331]\n\tMicrosoft::Applications::Events::ILogConfiguration::operator* [0x00007FF63E694C08+20344]\n\tMicrosoft::Applications::Events::ILogConfiguration::operator* [0x00007FF63E691224+5524]\n\tMicrosoft::Applications::Events::ILogConfiguration::operator* [0x00007FF63E69131C+5772]\n\tMicrosoft::Applications::Events::EventProperty::~EventProperty [0x00007FF63E684F31+742369]\n\tBaseThreadInitThunk [0x00007FF82D9C7614+20]\n\tRtlUserThreadStart [0x00007FF82E4626A1+33]\n",
     "output_type": "error",
     "traceback": [
      "\u001b[1;31m---------------------------------------------------------------------------\u001b[0m",
      "\u001b[1;31mStaleElementReferenceException\u001b[0m            Traceback (most recent call last)",
      "Cell \u001b[1;32mIn[6], line 15\u001b[0m\n\u001b[0;32m     13\u001b[0m searchbox\u001b[38;5;241m.\u001b[39msend_keys(Keys\u001b[38;5;241m.\u001b[39mENTER)\n\u001b[0;32m     14\u001b[0m time\u001b[38;5;241m.\u001b[39msleep(\u001b[38;5;241m5\u001b[39m)\n\u001b[1;32m---> 15\u001b[0m \u001b[43msearchbox\u001b[49m\u001b[38;5;241;43m.\u001b[39;49m\u001b[43msend_keys\u001b[49m\u001b[43m(\u001b[49m\u001b[43mKeys\u001b[49m\u001b[38;5;241;43m.\u001b[39;49m\u001b[43mENTER\u001b[49m\u001b[43m)\u001b[49m\n\u001b[0;32m     16\u001b[0m time\u001b[38;5;241m.\u001b[39msleep(\u001b[38;5;241m5\u001b[39m)\n",
      "File \u001b[1;32mJ:\\srcP\\cvi5\\usr\\WPy64-31090\\python-3.10.9.amd64\\lib\\site-packages\\selenium\\webdriver\\remote\\webelement.py:231\u001b[0m, in \u001b[0;36mWebElement.send_keys\u001b[1;34m(self, *value)\u001b[0m\n\u001b[0;32m    228\u001b[0m             remote_files\u001b[38;5;241m.\u001b[39mappend(\u001b[38;5;28mself\u001b[39m\u001b[38;5;241m.\u001b[39m_upload(file))\n\u001b[0;32m    229\u001b[0m         value \u001b[38;5;241m=\u001b[39m \u001b[38;5;124m\"\u001b[39m\u001b[38;5;130;01m\\n\u001b[39;00m\u001b[38;5;124m\"\u001b[39m\u001b[38;5;241m.\u001b[39mjoin(remote_files)\n\u001b[1;32m--> 231\u001b[0m \u001b[38;5;28;43mself\u001b[39;49m\u001b[38;5;241;43m.\u001b[39;49m\u001b[43m_execute\u001b[49m\u001b[43m(\u001b[49m\n\u001b[0;32m    232\u001b[0m \u001b[43m    \u001b[49m\u001b[43mCommand\u001b[49m\u001b[38;5;241;43m.\u001b[39;49m\u001b[43mSEND_KEYS_TO_ELEMENT\u001b[49m\u001b[43m,\u001b[49m\u001b[43m \u001b[49m\u001b[43m{\u001b[49m\u001b[38;5;124;43m\"\u001b[39;49m\u001b[38;5;124;43mtext\u001b[39;49m\u001b[38;5;124;43m\"\u001b[39;49m\u001b[43m:\u001b[49m\u001b[43m \u001b[49m\u001b[38;5;124;43m\"\u001b[39;49m\u001b[38;5;124;43m\"\u001b[39;49m\u001b[38;5;241;43m.\u001b[39;49m\u001b[43mjoin\u001b[49m\u001b[43m(\u001b[49m\u001b[43mkeys_to_typing\u001b[49m\u001b[43m(\u001b[49m\u001b[43mvalue\u001b[49m\u001b[43m)\u001b[49m\u001b[43m)\u001b[49m\u001b[43m,\u001b[49m\u001b[43m \u001b[49m\u001b[38;5;124;43m\"\u001b[39;49m\u001b[38;5;124;43mvalue\u001b[39;49m\u001b[38;5;124;43m\"\u001b[39;49m\u001b[43m:\u001b[49m\u001b[43m \u001b[49m\u001b[43mkeys_to_typing\u001b[49m\u001b[43m(\u001b[49m\u001b[43mvalue\u001b[49m\u001b[43m)\u001b[49m\u001b[43m}\u001b[49m\n\u001b[0;32m    233\u001b[0m \u001b[43m\u001b[49m\u001b[43m)\u001b[49m\n",
      "File \u001b[1;32mJ:\\srcP\\cvi5\\usr\\WPy64-31090\\python-3.10.9.amd64\\lib\\site-packages\\selenium\\webdriver\\remote\\webelement.py:403\u001b[0m, in \u001b[0;36mWebElement._execute\u001b[1;34m(self, command, params)\u001b[0m\n\u001b[0;32m    401\u001b[0m     params \u001b[38;5;241m=\u001b[39m {}\n\u001b[0;32m    402\u001b[0m params[\u001b[38;5;124m\"\u001b[39m\u001b[38;5;124mid\u001b[39m\u001b[38;5;124m\"\u001b[39m] \u001b[38;5;241m=\u001b[39m \u001b[38;5;28mself\u001b[39m\u001b[38;5;241m.\u001b[39m_id\n\u001b[1;32m--> 403\u001b[0m \u001b[38;5;28;01mreturn\u001b[39;00m \u001b[38;5;28;43mself\u001b[39;49m\u001b[38;5;241;43m.\u001b[39;49m\u001b[43m_parent\u001b[49m\u001b[38;5;241;43m.\u001b[39;49m\u001b[43mexecute\u001b[49m\u001b[43m(\u001b[49m\u001b[43mcommand\u001b[49m\u001b[43m,\u001b[49m\u001b[43m \u001b[49m\u001b[43mparams\u001b[49m\u001b[43m)\u001b[49m\n",
      "File \u001b[1;32mJ:\\srcP\\cvi5\\usr\\WPy64-31090\\python-3.10.9.amd64\\lib\\site-packages\\selenium\\webdriver\\remote\\webdriver.py:440\u001b[0m, in \u001b[0;36mWebDriver.execute\u001b[1;34m(self, driver_command, params)\u001b[0m\n\u001b[0;32m    438\u001b[0m response \u001b[38;5;241m=\u001b[39m \u001b[38;5;28mself\u001b[39m\u001b[38;5;241m.\u001b[39mcommand_executor\u001b[38;5;241m.\u001b[39mexecute(driver_command, params)\n\u001b[0;32m    439\u001b[0m \u001b[38;5;28;01mif\u001b[39;00m response:\n\u001b[1;32m--> 440\u001b[0m     \u001b[38;5;28;43mself\u001b[39;49m\u001b[38;5;241;43m.\u001b[39;49m\u001b[43merror_handler\u001b[49m\u001b[38;5;241;43m.\u001b[39;49m\u001b[43mcheck_response\u001b[49m\u001b[43m(\u001b[49m\u001b[43mresponse\u001b[49m\u001b[43m)\u001b[49m\n\u001b[0;32m    441\u001b[0m     response[\u001b[38;5;124m\"\u001b[39m\u001b[38;5;124mvalue\u001b[39m\u001b[38;5;124m\"\u001b[39m] \u001b[38;5;241m=\u001b[39m \u001b[38;5;28mself\u001b[39m\u001b[38;5;241m.\u001b[39m_unwrap_value(response\u001b[38;5;241m.\u001b[39mget(\u001b[38;5;124m\"\u001b[39m\u001b[38;5;124mvalue\u001b[39m\u001b[38;5;124m\"\u001b[39m, \u001b[38;5;28;01mNone\u001b[39;00m))\n\u001b[0;32m    442\u001b[0m     \u001b[38;5;28;01mreturn\u001b[39;00m response\n",
      "File \u001b[1;32mJ:\\srcP\\cvi5\\usr\\WPy64-31090\\python-3.10.9.amd64\\lib\\site-packages\\selenium\\webdriver\\remote\\errorhandler.py:245\u001b[0m, in \u001b[0;36mErrorHandler.check_response\u001b[1;34m(self, response)\u001b[0m\n\u001b[0;32m    243\u001b[0m         alert_text \u001b[38;5;241m=\u001b[39m value[\u001b[38;5;124m\"\u001b[39m\u001b[38;5;124malert\u001b[39m\u001b[38;5;124m\"\u001b[39m]\u001b[38;5;241m.\u001b[39mget(\u001b[38;5;124m\"\u001b[39m\u001b[38;5;124mtext\u001b[39m\u001b[38;5;124m\"\u001b[39m)\n\u001b[0;32m    244\u001b[0m     \u001b[38;5;28;01mraise\u001b[39;00m exception_class(message, screen, stacktrace, alert_text)  \u001b[38;5;66;03m# type: ignore[call-arg]  # mypy is not smart enough here\u001b[39;00m\n\u001b[1;32m--> 245\u001b[0m \u001b[38;5;28;01mraise\u001b[39;00m exception_class(message, screen, stacktrace)\n",
      "\u001b[1;31mStaleElementReferenceException\u001b[0m: Message: stale element reference: stale element not found\n  (Session info: MicrosoftEdge=114.0.1823.37)\nStacktrace:\nBacktrace:\n\tGetHandleVerifier [0x00007FF63E6FB2A2+63826]\n\tMicrosoft::Applications::Events::EventProperty::~EventProperty [0x00007FF63E68C532+772578]\n\t(No symbol) [0x00007FF63E43CC1C]\n\t(No symbol) [0x00007FF63E441F20]\n\t(No symbol) [0x00007FF63E443A24]\n\t(No symbol) [0x00007FF63E443B10]\n\t(No symbol) [0x00007FF63E481A18]\n\t(No symbol) [0x00007FF63E481937]\n\t(No symbol) [0x00007FF63E481AAE]\n\t(No symbol) [0x00007FF63E4781D7]\n\t(No symbol) [0x00007FF63E49EFDA]\n\t(No symbol) [0x00007FF63E474B91]\n\t(No symbol) [0x00007FF63E474A61]\n\t(No symbol) [0x00007FF63E49F310]\n\t(No symbol) [0x00007FF63E474B91]\n\t(No symbol) [0x00007FF63E4B7FD1]\n\t(No symbol) [0x00007FF63E49EDB3]\n\t(No symbol) [0x00007FF63E473BCE]\n\t(No symbol) [0x00007FF63E472DA5]\n\t(No symbol) [0x00007FF63E474344]\n\tMicrosoft::Applications::Events::ILogManager::DispatchEventBroadcast [0x00007FF63E8D1439+1308425]\n\t(No symbol) [0x00007FF63E4EE818]\n\tMicrosoft::Applications::Events::EventProperty::~EventProperty [0x00007FF63E5D8221+34513]\n\tMicrosoft::Applications::Events::EventProperty::~EventProperty [0x00007FF63E5D0445+2293]\n\tMicrosoft::Applications::Events::ILogManager::DispatchEventBroadcast [0x00007FF63E8D0053+1303331]\n\tMicrosoft::Applications::Events::ILogConfiguration::operator* [0x00007FF63E694C08+20344]\n\tMicrosoft::Applications::Events::ILogConfiguration::operator* [0x00007FF63E691224+5524]\n\tMicrosoft::Applications::Events::ILogConfiguration::operator* [0x00007FF63E69131C+5772]\n\tMicrosoft::Applications::Events::EventProperty::~EventProperty [0x00007FF63E684F31+742369]\n\tBaseThreadInitThunk [0x00007FF82D9C7614+20]\n\tRtlUserThreadStart [0x00007FF82E4626A1+33]\n"
     ]
    }
   ],
   "source": [
    "import time\n",
    "\n",
    "#target the search input field\n",
    "searchbox = WebDriverWait(driver, 10).until(EC.element_to_be_clickable((By.XPATH, \"//input[@placeholder='Pesquisar']\")))\n",
    "searchbox.clear()\n",
    "\n",
    "#search for the hashtag cat\n",
    "keyword = \"#cat\"\n",
    "searchbox.send_keys(keyword)\n",
    " \n",
    "# Wait for 5 seconds\n",
    "time.sleep(5)\n",
    "searchbox.send_keys(Keys.ENTER)\n",
    "time.sleep(5)\n",
    "searchbox.send_keys(Keys.ENTER)\n",
    "time.sleep(5)"
   ]
  },
  {
   "cell_type": "code",
   "execution_count": 7,
   "id": "c6826b5c",
   "metadata": {},
   "outputs": [
    {
     "name": "stdout",
     "output_type": "stream",
     "text": [
      "Found 0 links to images\n"
     ]
    },
    {
     "data": {
      "text/plain": [
       "[]"
      ]
     },
     "execution_count": 7,
     "metadata": {},
     "output_type": "execute_result"
    }
   ],
   "source": [
    "#scroll down to scrape more images\n",
    "driver.execute_script(\"window.scrollTo(0, 4000);\")\n",
    "#target all the link elements on the page\n",
    "anchors = driver.find_elements(By.TAG_NAME, 'img')\n",
    "anchors = [a.get_attribute('href') for a in anchors]\n",
    "#narrow down all links to image links only\n",
    "anchors = [a for a in anchors if str(a).startswith(\"https://www.instagram.com/p/\")]\n",
    "\n",
    "print('Found ' + str(len(anchors)) + ' links to images')\n",
    "anchors[:5]"
   ]
  },
  {
   "cell_type": "code",
   "execution_count": 8,
   "id": "dd118ed2",
   "metadata": {},
   "outputs": [
    {
     "data": {
      "text/plain": [
       "[]"
      ]
     },
     "execution_count": 8,
     "metadata": {},
     "output_type": "execute_result"
    }
   ],
   "source": [
    "images = []\n",
    "\n",
    "#follow each image link and extract only image at index=1\n",
    "for a in anchors:\n",
    "    driver.get(a)\n",
    "    time.sleep(5)\n",
    "    img = driver.find_elements_by_tag_name('img')\n",
    "    img = [i.get_attribute('src') for i in img]\n",
    "    images.append(img[1])\n",
    "    \n",
    "images[:5]"
   ]
  },
  {
   "cell_type": "code",
   "execution_count": null,
   "id": "43ff6a7b",
   "metadata": {},
   "outputs": [],
   "source": [
    "# defina o path antes\n",
    "#download images\n",
    "counter = 0\n",
    "for image in images:\n",
    "    save_as = os.path.join(path, keyword[1:] + str(counter) + '.jpg')\n",
    "    wget.download(image, save_as)\n",
    "    counter += 1"
   ]
  },
  {
   "cell_type": "markdown",
   "id": "640030e4",
   "metadata": {},
   "source": [
    "## 🔍 Lista de Auditorias<a href=\"#top\"><span style=\"float: right;\">🔝</span></a><a id=\"audits\"></a>\n",
    "  [utilize os notebooks da pasta notebooks](http://localhost:8888/tree/notebooks)"
   ]
  },
  {
   "cell_type": "markdown",
   "id": "6a49f1a2",
   "metadata": {},
   "source": [
    "## 🔧 Utilitários<a href=\"#top\"><span style=\"float: right;\">🔝</span></a><a id=\"utils\"></a>\n"
   ]
  },
  {
   "cell_type": "code",
   "execution_count": 4,
   "id": "8bcb0d11",
   "metadata": {
    "ExecuteTime": {
     "end_time": "2023-03-27T00:43:23.460938Z",
     "start_time": "2023-03-27T00:43:23.443480Z"
    },
    "tags": []
   },
   "outputs": [
    {
     "data": {
      "application/vnd.jupyter.widget-view+json": {
       "model_id": "db6df1d4e46343c697074cb5050d2542",
       "version_major": 2,
       "version_minor": 0
      },
      "text/plain": [
       "Button(button_style='success', description='Resultados', icon='folder-open', style=ButtonStyle(), tooltip='Abr…"
      ]
     },
     "metadata": {},
     "output_type": "display_data"
    },
    {
     "data": {
      "application/vnd.jupyter.widget-view+json": {
       "model_id": "da428bc6987b42cfaf1b546720f47b4b",
       "version_major": 2,
       "version_minor": 0
      },
      "text/plain": [
       "Button(button_style='success', description='Excel_Trabalho', icon='briefcase', style=ButtonStyle(), tooltip='A…"
      ]
     },
     "metadata": {},
     "output_type": "display_data"
    },
    {
     "data": {
      "application/vnd.jupyter.widget-view+json": {
       "model_id": "9e894f2e7e304d7b919f91f61963f548",
       "version_major": 2,
       "version_minor": 0
      },
      "text/plain": [
       "Output()"
      ]
     },
     "metadata": {},
     "output_type": "display_data"
    }
   ],
   "source": [
    "button_res = widgets.Button(\n",
    "    description='Resultados',\n",
    "    button_style='success', # 'success', 'info', 'warning', 'danger' or ''\n",
    "    tooltip='Abre Windows Explorer em Resultados',\n",
    "    icon='folder-open'\n",
    ")\n",
    "button_trab_paulo = widgets.Button(\n",
    "    description='Excel_Trabalho',\n",
    "    button_style='success', # 'success', 'info', 'warning', 'danger' or ''\n",
    "    tooltip='Abre planilha excel com macros para automatização e modelos para início de trabalho',\n",
    "    icon='briefcase'\n",
    ")\n",
    "output = widgets.Output()\n",
    "display(button_res, button_trab_paulo, output)\n",
    "\n",
    "def on_button_res_clicked(b):\n",
    "    os.startfile(os.path.realpath(config.settings.CVI_RESULT))\n",
    "    with output:\n",
    "        print(\"Aberto Windows Explorer na pasta resultados - verifique se está em segundo plano\")\n",
    "\n",
    "def on_button_trab_paulo_clicked(b):\n",
    "    os.startfile(os.path.realpath(os.path.join(config.settings.CVI_RES, 'TrabPaulo.xlsm')))\n",
    "    with output:\n",
    "        print(\"Aberto Excel de Trabalho - verifique se está em segundo plano\")\n",
    "\n",
    "button_res.on_click(on_button_res_clicked)\n",
    "button_trab_paulo.on_click(on_button_trab_paulo_clicked)"
   ]
  },
  {
   "cell_type": "markdown",
   "id": "f54b4929",
   "metadata": {},
   "source": [
    "## 💡 Cursos e Links<a href=\"#top\"><span style=\"float: right;\">🔝</span></a><a id=\"links\"></a>\n",
    "\n",
    "#### Links para Guardar:\n",
    "\n",
    "  [Top 25 Bibliotecas Python Para Data Science](https://blog.dsacademy.com.br/top-25-bibliotecas-python-para-data_science/)\n",
    "\n",
    "  [Python Data Science Handbook](https://github.com/jakevdp/PythonDataScienceHandbook/blob/master/README.md)\n",
    "  \n",
    "  [Dicas Formatação Jupyter Notebook e Markdown](https://brains.dev/2022/jupyter-notebooks-dicas-de-formatacao/)\n",
    "  \n",
    "  [Pandas Comparison with spreadsheets](https://pandas.pydata.org/docs/getting_started/comparison/comparison_with_spreadsheets.html#compare-with-spreadsheets)\n",
    "\n",
    "  [Python Scripts to Automate Routine - Tem wikipedia, text to speech, pytube, PyPDF2, Python Imaging Library, gensim (para resumir textos), pywhatkit](https://www.youtube.com/watch?v=700s0pzjPhM)\n",
    "  \n",
    "  [Automate Excel Reporting Using Python (Real-Life-Example) | Pandas, Plotly, Xlwings Tutorial](https://www.youtube.com/watch?v=JoonRjMsSdY)\n",
    " \n",
    "### Best Machine Learning &amp; Deep Learning Courses [2019]\n",
    "\n",
    "\n",
    "[1. Machine Learning Certification by Stanford University (Coursera)](https://www.coursera.org/learn/machine-learning?ranMID=40328&amp;ranEAID=vedj0cWlu2Y&amp;ranSiteID=vedj0cWlu2Y-ajzPQo.U8IJDvdN2zJ4zsg&amp;siteID=vedj0cWlu2Y-ajzPQo.U8IJDvdN2zJ4zsg&amp;utm_content=10&amp;utm_medium=partners&amp;utm_source=linkshare&amp;utm_campaign=vedj0cWlu2Y)\n",
    "\n",
    "[2. Deep Learning Certification by deeplearning.ai (Coursera)](https://www.coursera.org/specializations/deep-learning?edocomorp=mar19affiliate20off&amp;ranMID=40328&amp;ranEAID=vedj0cWlu2Y&amp;ranSiteID=vedj0cWlu2Y-ETlb9CJE2XM9JpTjEFCAhQ&amp;siteID=vedj0cWlu2Y-ETlb9CJE2XM9JpTjEFCAhQ&amp;utm_content=10&amp;utm_medium=partners&amp;utm_source=linkshare&amp;utm_campaign=vedj0cWlu2Y)\n",
    "\n",
    "[3. Intro to Machine Learning Nanodegree Program (Udacity)](https://www.udacity.com/course/intro-to-machine-learning-nanodegree--nd229?cjevent=3f802ef9d42d11e983bf02e70a240613)\n",
    "\n",
    "[4. Machine Learning A-Z™: Hands-On Python &amp; R In Data Science (Udemy)](https://www.udemy.com/machinelearning/?ranMID=39197&amp;ranEAID=vedj0cWlu2Y&amp;ranSiteID=vedj0cWlu2Y-Ocm.SbF0Nfu1joTCmj2lcw&amp;LSNPUBID=vedj0cWlu2Y)\n",
    "\n",
    "[5. Machine Learning Data Science Course from Harvard University (edX)](https://www.edx.org/professional-certificate/harvardx-data-science?source=aw&amp;awc=6798_1568162694_f3d200d33df1e9f4c007eab412be2dc9&amp;utm_source=aw&amp;utm_medium=affiliate_partner&amp;utm_content=text-link&amp;utm_term=427859_Digital+Defynd)\n",
    "\n",
    "[6. Deep Learning Course by IBM (edX)](https://www.edx.org/professional-certificate/ibm-deep-learning?source=aw&amp;awc=6798_1568162738_1040cabaa57d2f05641cb016f73b28e1&amp;utm_source=aw&amp;utm_medium=affiliate_partner&amp;utm_content=text-link&amp;utm_term=427859_Digital+Defynd)\n",
    "\n",
    "[7. Mathematics for Machine Learning by Imperial College London (Coursera)](https://www.coursera.org/specializations/mathematics-machine-learning?ranMID=40328&amp;ranEAID=vedj0cWlu2Y&amp;ranSiteID=vedj0cWlu2Y-xLidZLlpjC8Gv_s2W4ZnVw&amp;siteID=vedj0cWlu2Y-xLidZLlpjC8Gv_s2W4ZnVw&amp;utm_content=10&amp;utm_medium=partners&amp;utm_source=linkshare&amp;utm_campaign=vedj0cWlu2Y)\n",
    "\n",
    "[8. Machine Learning – Artificial Intelligence by Columbia University (edX)](https://www.edx.org/micromasters/columbiax-artificial-intelligence?source=aw&amp;awc=6798_1568162785_8665fc7be3791239252b43c78fc25d47&amp;utm_source=aw&amp;utm_medium=affiliate_partner&amp;utm_content=text-link&amp;utm_term=427859_Digital+Defynd)\n",
    "\n",
    "[9. Free College Machine Learning Courses (edX)](https://www.edx.org/learn/machine-learning?source=aw&amp;awc=6798_1568162807_f9cb6b1e897a5e949c8f61b160df08fb&amp;utm_source=aw&amp;utm_medium=affiliate_partner&amp;utm_content=text-link&amp;utm_term=427859_Digital+Defynd)\n",
    "\n",
    "[10. Machine Learning &amp; AI Courses (fast.ai)](https://www.fast.ai/)\n",
    "\n",
    "[11. Advanced Machine Learning Course by HSE (Coursera)](https://www.coursera.org/specializations/aml?ranMID=40328&amp;ranEAID=vedj0cWlu2Y&amp;ranSiteID=vedj0cWlu2Y-e8Umkx_VMoYhoLYF2JIiLA&amp;siteID=vedj0cWlu2Y-e8Umkx_VMoYhoLYF2JIiLA&amp;utm_content=10&amp;utm_medium=partners&amp;utm_source=linkshare&amp;utm_campaign=vedj0cWlu2Y)\n",
    "\n",
    "[12. Python for Data Science and Machine Learning Bootcamp (Udemy)](https://www.udemy.com/python-for-data-science-and-machine-learning-bootcamp/?ranMID=39197&amp;ranEAID=vedj0cWlu2Y&amp;ranSiteID=vedj0cWlu2Y-2yZi8gUVywIuAglcc34W9Q&amp;LSNPUBID=vedj0cWlu2Y)\n",
    "\n",
    "[13. Deep Learning A-Z™: Hands-On Artificial Neural Networks (Udemy)](https://www.udemy.com/deeplearning/?ranMID=39197&amp;ranEAID=vedj0cWlu2Y&amp;ranSiteID=vedj0cWlu2Y-XBUM5R9N4AO.GHduAzNNpg&amp;LSNPUBID=vedj0cWlu2Y)\n",
    "\n",
    "[14. Python for Everybody by University of Michigan (Coursera)](https://www.coursera.org/specializations/python?ranMID=40328&amp;ranEAID=vedj0cWlu2Y&amp;ranSiteID=vedj0cWlu2Y-Lc2RCZhix6fikqVzdQwKiw&amp;siteID=vedj0cWlu2Y-Lc2RCZhix6fikqVzdQwKiw&amp;utm_content=10&amp;utm_medium=partners&amp;utm_source=linkshare&amp;utm_campaign=vedj0cWlu2Y)\n",
    "\n",
    "[15. Deep Learning in Python (DataCamp)](https://www.datacamp.com/courses/deep-learning-in-python?tap_a=5644-dce66f&amp;tap_s=463826-784532)\n",
    "\n",
    "[16. Machine Learning Certification by University of Washington (Coursera)](https://www.coursera.org/specializations/machine-learning?ranMID=40328&amp;ranEAID=vedj0cWlu2Y&amp;ranSiteID=vedj0cWlu2Y-Cn0Cca6uS1hGwdb17rhacQ&amp;siteID=vedj0cWlu2Y-Cn0Cca6uS1hGwdb17rhacQ&amp;utm_content=10&amp;utm_medium=partners&amp;utm_source=linkshare&amp;utm_campaign=vedj0cWlu2Y)"
   ]
  },
  {
   "cell_type": "code",
   "execution_count": 1,
   "id": "122cc886",
   "metadata": {},
   "outputs": [
    {
     "name": "stdout",
     "output_type": "stream",
     "text": [
      "No broken requirements found.\n"
     ]
    }
   ],
   "source": [
    "!pip check"
   ]
  },
  {
   "cell_type": "code",
   "execution_count": null,
   "id": "053053cc",
   "metadata": {},
   "outputs": [],
   "source": [
    "%pip list"
   ]
  }
 ],
 "metadata": {
  "kernelspec": {
   "display_name": "Python 3 (ipykernel)",
   "language": "python",
   "name": "python3"
  },
  "language_info": {
   "codemirror_mode": {
    "name": "ipython",
    "version": 3
   },
   "file_extension": ".py",
   "mimetype": "text/x-python",
   "name": "python",
   "nbconvert_exporter": "python",
   "pygments_lexer": "ipython3",
   "version": "3.10.9"
  },
  "varInspector": {
   "cols": {
    "lenName": 16,
    "lenType": 16,
    "lenVar": 40
   },
   "kernels_config": {
    "python": {
     "delete_cmd_postfix": "",
     "delete_cmd_prefix": "del ",
     "library": "var_list.py",
     "varRefreshCmd": "print(var_dic_list())"
    },
    "r": {
     "delete_cmd_postfix": ") ",
     "delete_cmd_prefix": "rm(",
     "library": "var_list.r",
     "varRefreshCmd": "cat(var_dic_list()) "
    }
   },
   "types_to_exclude": [
    "module",
    "function",
    "builtin_function_or_method",
    "instance",
    "_Feature"
   ],
   "window_display": false
  }
 },
 "nbformat": 4,
 "nbformat_minor": 5
}
