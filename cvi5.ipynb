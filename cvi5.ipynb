{
 "cells": [
  {
   "cell_type": "markdown",
   "id": "cfe08a7e-e51c-4f2a-ba46-50fc7ff48bc5",
   "metadata": {},
   "source": [
    "<a id='top'><img src=\"core/pn_i32.png\" width=\"32px\" style=\"float: center;\">\n",
    "<p style=\"text-align: center; font-size: 200%; font-weight: bold; margin-top: 10px;\">CVI5 Python</a></p>\n",
    "\n",
    "---\n",
    "#### <div style=\"text-align: center\"><font color=\"navy\">CVI5 Python é uma continuação web do CVI5 php, com `frontend` jupyter notebook e `backend` python _\"puro\"_<br><br>Rodando localmente em pySimpleGui e os testes e arquivos de trabalho em Jupyter Notebook.</font></div>\n",
    "- **Automatização do Safic** para Sqlite em var\\result\n",
    "- **Geração de Notebooks** iniciais para auditoria\n",
    "- **Controle por CNPJ e auditorias** e importações diversas, como arquivos .txt , arquivos .sped, arquivos .xml\n",
    "- **Abertura** automática do Excel, arquivos .html e Windows Explorer\n",
    "- Acionamento de rotinas fazenda via **Pepe** e **Selenium** <span class=\"label label-info\"> 🚧 Em construção </span>\n",
    "<p style=\"text-align: right; font-size: 75%; opacity: 0.5; margin-top: 0px;\">Origem: Grupo de Estudos NFe/SPED - DRT/13 - Guarulhos - Autor: AFRE Paulo Marote</p>"
   ]
  },
  {
   "cell_type": "markdown",
   "id": "7c0bc9e9",
   "metadata": {},
   "source": [
    "<div class=\"list-group\" id=\"list-tab\" role=\"tablist\">\n",
    "  <h3 class=\"list-group-item list-group-item-action active\" data-toggle=\"list\"  role=\"tab\" aria-controls=\"home\">Menu Principal</h3>\n",
    "  <a class=\"list-group-item list-group-item-action\" data-toggle=\"list\" href=\"#libraries\" role=\"tab\" aria-controls=\"profile\">Importação das Libraries<span class=\"badge badge-primary badge-pill\">1</span></a>\n",
    "  <a class=\"list-group-item list-group-item-action\" data-toggle=\"list\" href=\"#selection\" role=\"tab\" aria-controls=\"messages\">Seleção de OSFs<span class=\"badge badge-primary badge-pill\">2</span></a>\n",
    "  <a class=\"list-group-item list-group-item-action\"  data-toggle=\"list\" href=\"#audits\" role=\"tab\" aria-controls=\"settings\">Lista de Auditorias<span class=\"badge badge-primary badge-pill\">3</span></a>\n",
    "  <a class=\"list-group-item list-group-item-action\"  data-toggle=\"list\" href=\"#utils\" role=\"tab\" aria-controls=\"settings\">Utilitários<span class=\"badge badge-primary badge-pill\">4</span></a>\n",
    "  <a class=\"list-group-item list-group-item-action\" data-toggle=\"list\" href=\"#links\" role=\"tab\" aria-controls=\"settings\">Cursos e Links Úteis<span class=\"badge badge-primary badge-pill\">Anexo</span></a>\n",
    "</div>"
   ]
  },
  {
   "cell_type": "markdown",
   "id": "685417e8",
   "metadata": {},
   "source": [
    "## ✅ Imports<a href=\"#top\"><span style=\"float: right;\">🔝</span></a><a id=\"libraries\"></a>"
   ]
  },
  {
   "cell_type": "code",
   "execution_count": 5,
   "id": "90d25659",
   "metadata": {},
   "outputs": [
    {
     "name": "stdout",
     "output_type": "stream",
     "text": [
      "os.getenv(\"HTTP_PROXY\"): None\n",
      "CURRENT_PID = 13472\n",
      "CVI_RES = J:\\srcP\\cvi5\\res\n",
      "CVI_RESULT = J:\\srcP\\cvi5\\var\\result\n",
      "CVI_SOURCE = J:\\srcP\\cvi5\\var\\source\n",
      "CVI_SYS_DATA_FILENAME = J:\\srcP\\cvi5\\var\\cvi_sys.json\n",
      "CVI_USR = J:\\srcP\\cvi5\\usr\n",
      "CVI_VAR = J:\\srcP\\cvi5\\var\n",
      "PROJECT_NAME = CVI\n",
      "PROJECT_VERSION = 5.1.2306\n"
     ]
    }
   ],
   "source": [
    "import os\n",
    "import sqlite3\n",
    "import pandas as pd\n",
    "from pycvi.Config import Config\n",
    "from pycvi.CviDb import CviDb\n",
    "from pycvi.audit.AuditHelpers import AuditHelpers\n",
    "from IPython.display import display, HTML\n",
    "# VERIFIQUE SE OS SETTINGS ESTÃO PERFEITOS !\n",
    "config.printSettings(full=False)"
   ]
  },
  {
   "cell_type": "markdown",
   "id": "89eb4b13",
   "metadata": {},
   "source": [
    "## 🏁 Seleção de OSF<a href=\"#top\"><span style=\"float: right;\">🔝</span></a><a id=\"selection\"></a>"
   ]
  },
  {
   "cell_type": "code",
   "execution_count": 10,
   "id": "7f4967fb",
   "metadata": {},
   "outputs": [
    {
     "data": {
      "text/html": [
       "<h3>Os demais notebooks utilizarão a seguinte empresa selecionada:</h3>"
      ],
      "text/plain": [
       "<IPython.core.display.HTML object>"
      ]
     },
     "metadata": {},
     "output_type": "display_data"
    },
    {
     "data": {
      "text/html": [
       "<div>\n",
       "<style scoped>\n",
       "    .dataframe tbody tr th:only-of-type {\n",
       "        vertical-align: middle;\n",
       "    }\n",
       "\n",
       "    .dataframe tbody tr th {\n",
       "        vertical-align: top;\n",
       "    }\n",
       "\n",
       "    .dataframe thead th {\n",
       "        text-align: right;\n",
       "    }\n",
       "</style>\n",
       "<table border=\"1\" class=\"dataframe\">\n",
       "  <thead>\n",
       "    <tr style=\"text-align: right;\">\n",
       "      <th></th>\n",
       "      <th>Empresa</th>\n",
       "      <th>CNPJ</th>\n",
       "      <th>IE</th>\n",
       "    </tr>\n",
       "  </thead>\n",
       "  <tbody>\n",
       "    <tr>\n",
       "      <th>0</th>\n",
       "      <td>CREATIVE DISPLAY INDUSTRIA E COMERCIO LTDA</td>\n",
       "      <td>02175187000190</td>\n",
       "      <td>379152700113</td>\n",
       "    </tr>\n",
       "  </tbody>\n",
       "</table>\n",
       "</div>"
      ],
      "text/plain": [
       "                                      Empresa            CNPJ            IE\n",
       "0  CREATIVE DISPLAY INDUSTRIA E COMERCIO LTDA  02175187000190  379152700113"
      ]
     },
     "metadata": {},
     "output_type": "display_data"
    }
   ],
   "source": [
    "config = Config()\n",
    "ah = AuditHelpers(config)\n",
    "cvi_sys_data = config.load_cvi_sys_data()\n",
    "cv_db = ah.audits_action(cvi_sys_data['osf_atual'], cvi_sys_data['cnpj_atual'])\n",
    "\n",
    "display(HTML('<h3>Os demais notebooks utilizarão a seguinte empresa selecionada:</h3>'))\n",
    "sql = \"\"\"\n",
    "SELECT max(nome) AS Empresa, max(cnpj) AS CNPJ, max(ie) AS IE FROM\n",
    "    (SELECT nome, cnpj, ie FROM _fiscal_participantedeclarado WHERE idParticipanteDeclarado = 1)\n",
    "\"\"\"\n",
    "df = pd.read_sql_query(sql, cv_db.conn)\n",
    "display(df.head())\n",
    "cv_db.close()"
   ]
  },
  {
   "cell_type": "markdown",
   "id": "640030e4",
   "metadata": {},
   "source": [
    "## 🔍 Lista de Auditorias<a href=\"#top\"><span style=\"float: right;\">🔝</span></a><a id=\"audits\"></a>\n",
    "  [utilize os notebooks da pasta notebooks](http://localhost:8888/tree/notebooks)"
   ]
  },
  {
   "cell_type": "markdown",
   "id": "6a49f1a2",
   "metadata": {},
   "source": [
    "## 🔧 Utilitários<a href=\"#top\"><span style=\"float: right;\">🔝</span></a><a id=\"utils\"></a>\n"
   ]
  },
  {
   "cell_type": "markdown",
   "id": "f54b4929",
   "metadata": {},
   "source": [
    "## 💡 Cursos e Links<a href=\"#top\"><span style=\"float: right;\">🔝</span></a><a id=\"links\"></a>\n",
    "\n",
    "#### Links para Guardar:\n",
    "\n",
    "  [Top 25 Bibliotecas Python Para Data Science](https://blog.dsacademy.com.br/top-25-bibliotecas-python-para-data_science/)\n",
    "\n",
    "  [Python Data Science Handbook](https://github.com/jakevdp/PythonDataScienceHandbook/blob/master/README.md)\n",
    "  \n",
    "  [Dicas Formatação Jupyter Notebook e Markdown](https://brains.dev/2022/jupyter-notebooks-dicas-de-formatacao/)\n",
    "  \n",
    "  [Pandas Comparison with spreadsheets](https://pandas.pydata.org/docs/getting_started/comparison/comparison_with_spreadsheets.html#compare-with-spreadsheets)\n",
    "\n",
    "  [Python Scripts to Automate Routine - Tem wikipedia, text to speech, pytube, PyPDF2, Python Imaging Library, gensim (para resumir textos), pywhatkit](https://www.youtube.com/watch?v=700s0pzjPhM)\n",
    "  \n",
    "  [Automate Excel Reporting Using Python (Real-Life-Example) | Pandas, Plotly, Xlwings Tutorial](https://www.youtube.com/watch?v=JoonRjMsSdY)\n",
    " \n",
    "### Best Machine Learning &amp; Deep Learning Courses [2019]\n",
    "\n",
    "\n",
    "[1. Machine Learning Certification by Stanford University (Coursera)](https://www.coursera.org/learn/machine-learning?ranMID=40328&amp;ranEAID=vedj0cWlu2Y&amp;ranSiteID=vedj0cWlu2Y-ajzPQo.U8IJDvdN2zJ4zsg&amp;siteID=vedj0cWlu2Y-ajzPQo.U8IJDvdN2zJ4zsg&amp;utm_content=10&amp;utm_medium=partners&amp;utm_source=linkshare&amp;utm_campaign=vedj0cWlu2Y)\n",
    "\n",
    "[2. Deep Learning Certification by deeplearning.ai (Coursera)](https://www.coursera.org/specializations/deep-learning?edocomorp=mar19affiliate20off&amp;ranMID=40328&amp;ranEAID=vedj0cWlu2Y&amp;ranSiteID=vedj0cWlu2Y-ETlb9CJE2XM9JpTjEFCAhQ&amp;siteID=vedj0cWlu2Y-ETlb9CJE2XM9JpTjEFCAhQ&amp;utm_content=10&amp;utm_medium=partners&amp;utm_source=linkshare&amp;utm_campaign=vedj0cWlu2Y)\n",
    "\n",
    "[3. Intro to Machine Learning Nanodegree Program (Udacity)](https://www.udacity.com/course/intro-to-machine-learning-nanodegree--nd229?cjevent=3f802ef9d42d11e983bf02e70a240613)\n",
    "\n",
    "[4. Machine Learning A-Z™: Hands-On Python &amp; R In Data Science (Udemy)](https://www.udemy.com/machinelearning/?ranMID=39197&amp;ranEAID=vedj0cWlu2Y&amp;ranSiteID=vedj0cWlu2Y-Ocm.SbF0Nfu1joTCmj2lcw&amp;LSNPUBID=vedj0cWlu2Y)\n",
    "\n",
    "[5. Machine Learning Data Science Course from Harvard University (edX)](https://www.edx.org/professional-certificate/harvardx-data-science?source=aw&amp;awc=6798_1568162694_f3d200d33df1e9f4c007eab412be2dc9&amp;utm_source=aw&amp;utm_medium=affiliate_partner&amp;utm_content=text-link&amp;utm_term=427859_Digital+Defynd)\n",
    "\n",
    "[6. Deep Learning Course by IBM (edX)](https://www.edx.org/professional-certificate/ibm-deep-learning?source=aw&amp;awc=6798_1568162738_1040cabaa57d2f05641cb016f73b28e1&amp;utm_source=aw&amp;utm_medium=affiliate_partner&amp;utm_content=text-link&amp;utm_term=427859_Digital+Defynd)\n",
    "\n",
    "[7. Mathematics for Machine Learning by Imperial College London (Coursera)](https://www.coursera.org/specializations/mathematics-machine-learning?ranMID=40328&amp;ranEAID=vedj0cWlu2Y&amp;ranSiteID=vedj0cWlu2Y-xLidZLlpjC8Gv_s2W4ZnVw&amp;siteID=vedj0cWlu2Y-xLidZLlpjC8Gv_s2W4ZnVw&amp;utm_content=10&amp;utm_medium=partners&amp;utm_source=linkshare&amp;utm_campaign=vedj0cWlu2Y)\n",
    "\n",
    "[8. Machine Learning – Artificial Intelligence by Columbia University (edX)](https://www.edx.org/micromasters/columbiax-artificial-intelligence?source=aw&amp;awc=6798_1568162785_8665fc7be3791239252b43c78fc25d47&amp;utm_source=aw&amp;utm_medium=affiliate_partner&amp;utm_content=text-link&amp;utm_term=427859_Digital+Defynd)\n",
    "\n",
    "[9. Free College Machine Learning Courses (edX)](https://www.edx.org/learn/machine-learning?source=aw&amp;awc=6798_1568162807_f9cb6b1e897a5e949c8f61b160df08fb&amp;utm_source=aw&amp;utm_medium=affiliate_partner&amp;utm_content=text-link&amp;utm_term=427859_Digital+Defynd)\n",
    "\n",
    "[10. Machine Learning &amp; AI Courses (fast.ai)](https://www.fast.ai/)\n",
    "\n",
    "[11. Advanced Machine Learning Course by HSE (Coursera)](https://www.coursera.org/specializations/aml?ranMID=40328&amp;ranEAID=vedj0cWlu2Y&amp;ranSiteID=vedj0cWlu2Y-e8Umkx_VMoYhoLYF2JIiLA&amp;siteID=vedj0cWlu2Y-e8Umkx_VMoYhoLYF2JIiLA&amp;utm_content=10&amp;utm_medium=partners&amp;utm_source=linkshare&amp;utm_campaign=vedj0cWlu2Y)\n",
    "\n",
    "[12. Python for Data Science and Machine Learning Bootcamp (Udemy)](https://www.udemy.com/python-for-data-science-and-machine-learning-bootcamp/?ranMID=39197&amp;ranEAID=vedj0cWlu2Y&amp;ranSiteID=vedj0cWlu2Y-2yZi8gUVywIuAglcc34W9Q&amp;LSNPUBID=vedj0cWlu2Y)\n",
    "\n",
    "[13. Deep Learning A-Z™: Hands-On Artificial Neural Networks (Udemy)](https://www.udemy.com/deeplearning/?ranMID=39197&amp;ranEAID=vedj0cWlu2Y&amp;ranSiteID=vedj0cWlu2Y-XBUM5R9N4AO.GHduAzNNpg&amp;LSNPUBID=vedj0cWlu2Y)\n",
    "\n",
    "[14. Python for Everybody by University of Michigan (Coursera)](https://www.coursera.org/specializations/python?ranMID=40328&amp;ranEAID=vedj0cWlu2Y&amp;ranSiteID=vedj0cWlu2Y-Lc2RCZhix6fikqVzdQwKiw&amp;siteID=vedj0cWlu2Y-Lc2RCZhix6fikqVzdQwKiw&amp;utm_content=10&amp;utm_medium=partners&amp;utm_source=linkshare&amp;utm_campaign=vedj0cWlu2Y)\n",
    "\n",
    "[15. Deep Learning in Python (DataCamp)](https://www.datacamp.com/courses/deep-learning-in-python?tap_a=5644-dce66f&amp;tap_s=463826-784532)\n",
    "\n",
    "[16. Machine Learning Certification by University of Washington (Coursera)](https://www.coursera.org/specializations/machine-learning?ranMID=40328&amp;ranEAID=vedj0cWlu2Y&amp;ranSiteID=vedj0cWlu2Y-Cn0Cca6uS1hGwdb17rhacQ&amp;siteID=vedj0cWlu2Y-Cn0Cca6uS1hGwdb17rhacQ&amp;utm_content=10&amp;utm_medium=partners&amp;utm_source=linkshare&amp;utm_campaign=vedj0cWlu2Y)"
   ]
  },
  {
   "cell_type": "code",
   "execution_count": 1,
   "id": "122cc886",
   "metadata": {},
   "outputs": [
    {
     "name": "stdout",
     "output_type": "stream",
     "text": [
      "No broken requirements found.\n"
     ]
    }
   ],
   "source": [
    "!pip check"
   ]
  },
  {
   "cell_type": "code",
   "execution_count": null,
   "id": "053053cc",
   "metadata": {},
   "outputs": [],
   "source": [
    "%pip list"
   ]
  }
 ],
 "metadata": {
  "kernelspec": {
   "display_name": "Python 3 (ipykernel)",
   "language": "python",
   "name": "python3"
  },
  "language_info": {
   "codemirror_mode": {
    "name": "ipython",
    "version": 3
   },
   "file_extension": ".py",
   "mimetype": "text/x-python",
   "name": "python",
   "nbconvert_exporter": "python",
   "pygments_lexer": "ipython3",
   "version": "3.10.9"
  },
  "varInspector": {
   "cols": {
    "lenName": 16,
    "lenType": 16,
    "lenVar": 40
   },
   "kernels_config": {
    "python": {
     "delete_cmd_postfix": "",
     "delete_cmd_prefix": "del ",
     "library": "var_list.py",
     "varRefreshCmd": "print(var_dic_list())"
    },
    "r": {
     "delete_cmd_postfix": ") ",
     "delete_cmd_prefix": "rm(",
     "library": "var_list.r",
     "varRefreshCmd": "cat(var_dic_list()) "
    }
   },
   "types_to_exclude": [
    "module",
    "function",
    "builtin_function_or_method",
    "instance",
    "_Feature"
   ],
   "window_display": false
  }
 },
 "nbformat": 4,
 "nbformat_minor": 5
}
