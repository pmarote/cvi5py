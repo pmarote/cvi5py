{
 "cells": [
  {
   "cell_type": "markdown",
   "id": "acd35399",
   "metadata": {},
   "source": [
    "<img src=\"../core/pn_i32.png\">\n",
    "<p style=\"text-align: center; font-size: 180%; font-weight: bold; margin-top: 10px;\">CVI5 Python - Utilitários - Leitura e Importação do Safic</p>"
   ]
  },
  {
   "cell_type": "markdown",
   "id": "67ee2886",
   "metadata": {},
   "source": [
    "## ✅ Imports"
   ]
  },
  {
   "cell_type": "code",
   "execution_count": 44,
   "id": "85be8b02",
   "metadata": {
    "ExecuteTime": {
     "end_time": "2023-03-27T12:49:05.624910Z",
     "start_time": "2023-03-27T12:49:05.621383Z"
    }
   },
   "outputs": [],
   "source": [
    "import set_sys_path # este sempre antes de todo mundo, é para acertar certinho o sys.path\n",
    "# TODAS AS BIBLIOTECAS QUE VOU UTILIZAR\n",
    "import ipywidgets as widgets\n",
    "import sqlite3\n",
    "import os\n",
    "import random\n",
    "import datetime\n",
    "import win32com.client\n",
    "import core.config as config\n",
    "from core.pycvi import cvi\n",
    "from core.pycpfcnpj import cnpj"
   ]
  },
  {
   "cell_type": "code",
   "execution_count": 56,
   "id": "dcae3a0a",
   "metadata": {
    "ExecuteTime": {
     "end_time": "2023-03-27T13:07:49.809297Z",
     "start_time": "2023-03-27T13:07:49.346583Z"
    }
   },
   "outputs": [
    {
     "name": "stdout",
     "output_type": "stream",
     "text": [
      "SqlLocalDb em funcionamento! State: Running - Pipe Name: np:\\\\.\\pipe\\LOCALDB#A3427B12\\tsql\\query\n",
      "['[13003915228_221226_183400]', '[13003915228_221226_183400_Dfe_000101_171031]', '[13003915228_221226_183400_Dfe_171101_210201]', '[13003915228_221226_183400_Dfe_210202_221226]', '[13003915228_221226_183400_DocAtrib_000101_171031]', '[13003915228_221226_183400_DocAtrib_171101_210201]', '[13003915228_221226_183400_DocAtrib_210202_221226]', '[13003915228_221226_183400Aux1]', '[13004146228_230102_115041]', '[13004146228_230102_115041_Dfe_000101_160731]', '[13004146228_230102_115041_Dfe_160801_180201]', '[13004146228_230102_115041_Dfe_180202_230102]', '[13004146228_230102_115041_DocAtrib_000101_160731]', '[13004146228_230102_115041_DocAtrib_160801_180201]', '[13004146228_230102_115041_DocAtrib_180202_230102]', '[13004146228_230102_115041Aux1]', '[master]', '[model]', '[msdb]', '[SaficV1_0]', '[tempdb]']\n",
      "SqlLocalDb em funcionamento! State: Running - Pipe Name: np:\\\\.\\pipe\\LOCALDB#A3427B12\\tsql\\query\n",
      "[['13003915228', '13003915228_221226_183400', 'AXALTA COATING SYSTEMS BRASIL LTDA.', '15373395000145', '796011654119'], ['13004146228', '13004146228_230102_115041', 'ALESAT COMBUSTÍVEIS S.A.', '23314594001697', '336810663117']]\n",
      "SqlLocalDb em funcionamento! State: Running - Pipe Name: np:\\\\.\\pipe\\LOCALDB#A3427B12\\tsql\\query\n",
      "\n",
      "    SELECT '[SaficV1_0]' AS DB, sSCH.name AS SchemaName, sOBJ.name AS TableName, sum(sPTN.Rows) AS QtdLinhas\n",
      "    FROM [SaficV1_0].sys.objects AS sOBJ\n",
      "    INNER JOIN [SaficV1_0].sys.partitions AS sPTN ON sOBJ.object_id = sPTN.object_id\n",
      "    INNER JOIN [SaficV1_0].sys.schemas AS sSCH ON sOBJ.schema_id = sSCH.schema_id\n",
      "    WHERE sOBJ.type = 'U' AND sOBJ.is_ms_shipped = 0x0 AND index_id < 2 \n",
      "    GROUP BY sSCH.name, sOBJ.name\n",
      "    \n",
      "[['[SaficV1_0]', 'dbo', 'Auditoria', '2']]\n"
     ]
    }
   ],
   "source": [
    "def adoDb_info():\n",
    "    today = datetime.date.today()\n",
    "    uniqid = today.strftime(\"%y%m%d\") + str(random.randint(10_000_000, 99_999_999))\n",
    "    tmp_file = os.path.join(config.settings.CVI_VAR, 'tmp', f\"sqldbi{uniqid}.txt\")\n",
    "    cmd = f\"sqllocaldb i SaficV150 > {tmp_file}\"\n",
    "    o_exec = os.system(f\"cmd /C {cmd}\")\n",
    "    # print(\"uniqid=\", uniqid, tmp_file, cmd, \"#\", o_exec, \"#\")\n",
    "    with open(tmp_file) as f:\n",
    "        lines = f.readlines()\n",
    "    adoDb_info_pipeName = lines[14].replace('Instance pipe name:', '').strip()\n",
    "    adoDb_info_state = lines[10].replace('State:              ', '').strip()\n",
    "    return adoDb_info_pipeName, adoDb_info_state\n",
    "\n",
    "\n",
    "def adoDb_open():\n",
    "    adoDb_status = adoDb_info()\n",
    "    if adoDb_status[1] != \"Running\":\n",
    "        print(\"Falha!! SqlLocalDb SaficV150 parado... Movimente o Safic e tente novamente\")\n",
    "        return False\n",
    "    print(f\"SqlLocalDb em funcionamento! State: {adoDb_status[1]} - Pipe Name: {adoDb_status[0]}\")\n",
    "    serverName = '{' + adoDb_status[0] + '};Database={master};Trusted_Connection={True};';\n",
    "    dsn = 'DRIVER={SQL Server};SERVER=' + serverName + ''\n",
    "    cn = win32com.client.Dispatch(\"ADODB.Connection\")\n",
    "    rs = win32com.client.Dispatch(\"ADODB.Recordset\")\n",
    "    cn.Open(dsn)\n",
    "    return cn, rs\n",
    "\n",
    "\n",
    "def adoDb_get_databases():\n",
    "    cn, rs = adoDb_open()\n",
    "    databases = []\n",
    "    sql = \"SELECT QUOTENAME(name) AS f1 FROM sys.databases ORDER BY name\"\n",
    "    # Ver instruções completas aqui: https://wiki.python.org.br/PythonComADO\n",
    "    rs.Open(sql, cn, 2, 3)\n",
    "    while not rs.Eof:\n",
    "        databases.append(rs.Fields['f1'].value)\n",
    "        rs.MoveNext()\n",
    "    return databases\n",
    "\n",
    "\n",
    "def adoDb_get_osflist():\n",
    "    cn, rs = adoDb_open()\n",
    "    osflist = []\n",
    "    sql = \"SELECT numOsf, identificadorAuditoria, razao, cnpj, ie FROM [SaficV1_0].[dbo].[Auditoria]\"\n",
    "    # Ver instruções completas aqui: https://wiki.python.org.br/PythonComADO\n",
    "    rs.Open(sql, cn, 2, 3)\n",
    "    while not rs.Eof:\n",
    "        osf = [rs.Fields['numOsf'].value, rs.Fields['identificadorAuditoria'].value, rs.Fields['razao'].value, rs.Fields['cnpj'].value, rs.Fields['ie'].value, ]\n",
    "        osflist.append(osf)\n",
    "        rs.MoveNext()\n",
    "    return osflist\n",
    "\n",
    "\n",
    "def adoDb_get_table_list():\n",
    "    cn, rs = adoDb_open()\n",
    "    table_list = []\n",
    "    val = '[SaficV1_0]'\n",
    "    sql = f\"\"\"\n",
    "    SELECT '{val}' AS DB, sSCH.name AS SchemaName, sOBJ.name AS TableName, sum(sPTN.Rows) AS QtdLinhas\n",
    "    FROM {val}.sys.objects AS sOBJ\n",
    "    INNER JOIN {val}.sys.partitions AS sPTN ON sOBJ.object_id = sPTN.object_id\n",
    "    INNER JOIN {val}.sys.schemas AS sSCH ON sOBJ.schema_id = sSCH.schema_id\n",
    "    WHERE sOBJ.type = 'U' AND sOBJ.is_ms_shipped = 0x0 AND index_id < 2 \n",
    "    GROUP BY sSCH.name, sOBJ.name\n",
    "    \"\"\"\n",
    "    print(sql)\n",
    "    rs.Open(sql, cn, 2, 3)\n",
    "    while not rs.Eof:\n",
    "        res = [rs.Fields['DB'].value, rs.Fields['SchemaName'].value, rs.Fields['TableName'].value, rs.Fields['QtdLinhas'].value]\n",
    "        table_list.append(res)\n",
    "        rs.MoveNext()\n",
    "    return table_list\n",
    "\n",
    "\n",
    "\n",
    "print(adoDb_get_databases())\n",
    "print(adoDb_get_osflist())\n",
    "print(adoDb_get_table_list())"
   ]
  }
 ],
 "metadata": {
  "kernelspec": {
   "display_name": "Python 3 (ipykernel)",
   "language": "python",
   "name": "python3"
  },
  "language_info": {
   "codemirror_mode": {
    "name": "ipython",
    "version": 3
   },
   "file_extension": ".py",
   "mimetype": "text/x-python",
   "name": "python",
   "nbconvert_exporter": "python",
   "pygments_lexer": "ipython3",
   "version": "3.10.9"
  },
  "varInspector": {
   "cols": {
    "lenName": 16,
    "lenType": 16,
    "lenVar": 40
   },
   "kernels_config": {
    "python": {
     "delete_cmd_postfix": "",
     "delete_cmd_prefix": "del ",
     "library": "var_list.py",
     "varRefreshCmd": "print(var_dic_list())"
    },
    "r": {
     "delete_cmd_postfix": ") ",
     "delete_cmd_prefix": "rm(",
     "library": "var_list.r",
     "varRefreshCmd": "cat(var_dic_list()) "
    }
   },
   "types_to_exclude": [
    "module",
    "function",
    "builtin_function_or_method",
    "instance",
    "_Feature"
   ],
   "window_display": false
  }
 },
 "nbformat": 4,
 "nbformat_minor": 5
}
