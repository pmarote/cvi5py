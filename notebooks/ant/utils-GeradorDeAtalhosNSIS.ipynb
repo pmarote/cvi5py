{
 "cells": [
  {
   "cell_type": "code",
   "execution_count": 6,
   "id": "84b052ae",
   "metadata": {
    "ExecuteTime": {
     "end_time": "2023-04-06T20:18:49.704086Z",
     "start_time": "2023-04-06T20:18:49.690136Z"
    },
    "tags": []
   },
   "outputs": [
    {
     "ename": "ModuleNotFoundError",
     "evalue": "No module named 'parent'",
     "output_type": "error",
     "traceback": [
      "\u001b[1;31m---------------------------------------------------------------------------\u001b[0m",
      "\u001b[1;31mModuleNotFoundError\u001b[0m                       Traceback (most recent call last)",
      "Cell \u001b[1;32mIn[6], line 3\u001b[0m\n\u001b[0;32m      1\u001b[0m \u001b[38;5;28;01mimport\u001b[39;00m \u001b[38;5;21;01msys\u001b[39;00m\n\u001b[0;32m      2\u001b[0m sys\u001b[38;5;241m.\u001b[39mpath\u001b[38;5;241m.\u001b[39mappend(\u001b[38;5;124m'\u001b[39m\u001b[38;5;124m..\u001b[39m\u001b[38;5;124m'\u001b[39m)\n\u001b[1;32m----> 3\u001b[0m \u001b[38;5;28;01mimport\u001b[39;00m \u001b[38;5;21;01mparent\u001b[39;00m\u001b[38;5;21;01m.\u001b[39;00m\u001b[38;5;21;01mset_sys_path\u001b[39;00m\n\u001b[0;32m      4\u001b[0m \u001b[38;5;28;01mfrom\u001b[39;00m \u001b[38;5;21;01mpathlib\u001b[39;00m \u001b[38;5;28;01mimport\u001b[39;00m Path\n\u001b[0;32m      5\u001b[0m \u001b[38;5;28;01mimport\u001b[39;00m \u001b[38;5;21;01mcore\u001b[39;00m\u001b[38;5;21;01m.\u001b[39;00m\u001b[38;5;21;01mconfig\u001b[39;00m \u001b[38;5;28;01mas\u001b[39;00m \u001b[38;5;21;01mconfig\u001b[39;00m\n",
      "\u001b[1;31mModuleNotFoundError\u001b[0m: No module named 'parent'"
     ]
    }
   ],
   "source": [
    "import set_sys_path\n",
    "from pathlib import Path\n",
    "import core.config as config\n",
    "config.printSettings()"
   ]
  },
  {
   "cell_type": "markdown",
   "id": "1bb87781-2fb4-4768-a7bd-bb365f76ec76",
   "metadata": {},
   "source": [
    "### Inspiração: atalhos do Winpython\n",
    "<a href=\"https://github.com/winpython/winpython\">Link do GitHub"
   ]
  },
  {
   "cell_type": "code",
   "execution_count": 7,
   "id": "dabb0376-143a-4154-b9e7-4c98845a9d59",
   "metadata": {
    "tags": []
   },
   "outputs": [
    {
     "name": "stdout",
     "output_type": "stream",
     "text": [
      "$EXEDIR\\scripts\n"
     ]
    }
   ],
   "source": [
    "def get_nsis_exe():\n",
    "    \"\"\"Return NSIS executable\"\"\"\n",
    "    exe = str(Path(config.settings.CVI_USR) / \"nsis-3.08\" / \"makensis.exe\")\n",
    "    if Path(exe).is_file():\n",
    "        return exe\n",
    "    else:\n",
    "        raise RuntimeError(\"NSIS is not installed on this computer.\")\n",
    "\n",
    "NSIS_EXE = get_nsis_exe()  # NSIS Compiler\n",
    "print(r\"$EXEDIR\\scripts\")\n",
    "\n",
    "def build_nsis(srcname, dstname, data):\n",
    "    \"\"\"Build NSIS script\"\"\"\n",
    "    portable_dir = str(Path(__file__).resolve().parent / \"portable\")\n",
    "    shutil.copy(str(Path(portable_dir) / srcname), dstname)\n",
    "    data = [\n",
    "        (\n",
    "            \"!addincludedir\",\n",
    "            str(Path(portable_dir) / \"include\"),\n",
    "        )\n",
    "    ] + list(data)\n",
    "    replace_in_nsis_file(dstname, data)\n",
    "    try:\n",
    "        retcode = subprocess.call(\n",
    "            f'\"{NSIS_EXE}\" -V2 \"{dstname}\"',\n",
    "            shell=True,\n",
    "            stdout=sys.stderr,\n",
    "        )\n",
    "        if retcode < 0:\n",
    "            print(\n",
    "                \"Child was terminated by signal\",\n",
    "                -retcode,\n",
    "                file=sys.stderr,\n",
    "            )\n",
    "    except OSError as e:\n",
    "        print(\"Execution failed:\", e, file=sys.stderr)\n",
    "    os.remove(dstname)\n",
    "\n",
    "\n",
    "class WinPythonDistribution(object):\n",
    "    \"\"\"WinPython distribution\"\"\"\n",
    "\n",
    "    def __init__(\n",
    "        self,\n",
    "        verbose=False,\n",
    "    ):\n",
    "        self.verbose = verbose\n",
    "\n",
    "    def _print(self, text):\n",
    "        \"\"\"Print action text indicating progress\"\"\"\n",
    "        if self.verbose:\n",
    "            # utils.print_box(text)\n",
    "            raise Exception(\"generic error inside WinPythonDistribution._print\")\n",
    "        else:\n",
    "            print(text + \"...\", end=\" \")\n",
    "\n",
    "    def _create_launchers(self):\n",
    "        \"\"\"Create launchers\"\"\"\n",
    "\n",
    "        self._print(\"Creating launchers\")\n",
    "        self.create_launcher(\n",
    "            \"WinPython Command Prompt.exe\",\n",
    "            \"cmd.ico\",\n",
    "            command=\"$SYSDIR\\cmd.exe\",\n",
    "            args=r\"/k cmd.bat\",\n",
    "        )\n",
    "\n",
    "    def create_launcher(self, name, icon, command=None, args=None, workdir=r\"$EXEDIR\\scripts\",\n",
    "                        launcher=\"launcher_basic.nsi\",):\n",
    "        \"\"\"Create exe launcher with NSIS\"\"\"\n",
    "        assert name.endswith(\".exe\")\n",
    "        portable_dir = str(Path(__file__).resolve().parent / \"portable\")\n",
    "        icon_fname = str(Path(portable_dir) / \"icons\" / icon)\n",
    "        assert Path(icon_fname).is_file()\n",
    "\n",
    "        # Customizing NSIS script\n",
    "        if command is None:\n",
    "            if args is not None and \".pyw\" in args:\n",
    "                command = \"${WINPYDIR}\\pythonw.exe\"\n",
    "            else:\n",
    "                command = \"${WINPYDIR}\\python.exe\"\n",
    "        if args is None:\n",
    "            args = \"\"\n",
    "        if workdir is None:\n",
    "            workdir = \"\"\n",
    "        fname = str(Path(self.winpydir) / (Path(name).stem + \".nsi\"))\n",
    "\n",
    "        data = [\n",
    "            (\"WINPYDIR\", f\"$EXEDIR\\{self.python_name}\"),\n",
    "            (\"WINPYVER\", self.winpyver),\n",
    "            (\"COMMAND\", command),\n",
    "            (\"PARAMETERS\", args),\n",
    "            (\"WORKDIR\", workdir),\n",
    "            (\"Icon\", icon_fname),\n",
    "            (\"OutFile\", name),\n",
    "        ]\n",
    "\n",
    "        build_nsis(launcher, fname, data)"
   ]
  },
  {
   "cell_type": "markdown",
   "id": "a9172042-62d2-4a2f-aebc-208754f15ffd",
   "metadata": {},
   "source": [
    "Busca Tit\n",
    "\n",
    "Busca de arquivos de páginas do Tit Utilizando BeautifulSoup:\n",
    "\n",
    "https://beautiful-soup-4.readthedocs.io/en/latest/#"
   ]
  }
 ],
 "metadata": {
  "kernelspec": {
   "display_name": "Python 3 (ipykernel)",
   "language": "python",
   "name": "python3"
  },
  "language_info": {
   "codemirror_mode": {
    "name": "ipython",
    "version": 3
   },
   "file_extension": ".py",
   "mimetype": "text/x-python",
   "name": "python",
   "nbconvert_exporter": "python",
   "pygments_lexer": "ipython3",
   "version": "3.11.1"
  },
  "varInspector": {
   "cols": {
    "lenName": 16,
    "lenType": 16,
    "lenVar": 40
   },
   "kernels_config": {
    "python": {
     "delete_cmd_postfix": "",
     "delete_cmd_prefix": "del ",
     "library": "var_list.py",
     "varRefreshCmd": "print(var_dic_list())"
    },
    "r": {
     "delete_cmd_postfix": ") ",
     "delete_cmd_prefix": "rm(",
     "library": "var_list.r",
     "varRefreshCmd": "cat(var_dic_list()) "
    }
   },
   "types_to_exclude": [
    "module",
    "function",
    "builtin_function_or_method",
    "instance",
    "_Feature"
   ],
   "window_display": false
  }
 },
 "nbformat": 4,
 "nbformat_minor": 5
}
