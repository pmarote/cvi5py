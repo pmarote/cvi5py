{
 "cells": [
  {
   "cell_type": "code",
   "execution_count": 1,
   "id": "7cf26a9a-b0c4-41df-b78e-26bfbbca8d36",
   "metadata": {
    "ExecuteTime": {
     "end_time": "2023-04-05T20:39:26.507898Z",
     "start_time": "2023-04-05T20:39:26.499716Z"
    }
   },
   "outputs": [
    {
     "name": "stdout",
     "output_type": "stream",
     "text": [
      "Corrigido o primeiro item de sys.path de O:\\srcP\\cvi5\\py\\notebooks  para  O:\\srcP\\cvi5\\py\n"
     ]
    }
   ],
   "source": [
    "import set_sys_path"
   ]
  },
  {
   "cell_type": "code",
   "execution_count": 2,
   "id": "a0da59a3-de8e-4031-87fa-a87f8e9688e4",
   "metadata": {
    "ExecuteTime": {
     "end_time": "2023-04-05T20:39:27.728830Z",
     "start_time": "2023-04-05T20:39:27.719008Z"
    },
    "scrolled": true
   },
   "outputs": [
    {
     "name": "stdout",
     "output_type": "stream",
     "text": [
      "sys.version:  3.11.1 (tags/v3.11.1:a7a450f, Dec  6 2022, 19:58:39) [MSC v.1934 64 bit (AMD64)]\n",
      "sys.platform:  win32\n",
      "os.name:  nt\n",
      "sys.path:  ['O:\\\\srcP\\\\cvi5\\\\py', 'O:\\\\srcP\\\\cvi5\\\\usr\\\\WPy64-31110\\\\python-3.11.1.amd64\\\\python311.zip', 'O:\\\\srcP\\\\cvi5\\\\usr\\\\WPy64-31110\\\\python-3.11.1.amd64\\\\Lib', 'O:\\\\srcP\\\\cvi5\\\\usr\\\\WPy64-31110\\\\python-3.11.1.amd64\\\\DLLs', 'O:\\\\srcP\\\\cvi5\\\\usr\\\\WPy64-31110\\\\python-3.11.1.amd64', '', 'O:\\\\srcP\\\\cvi5\\\\usr\\\\WPy64-31110\\\\python-3.11.1.amd64\\\\Lib\\\\site-packages', 'O:\\\\srcP\\\\cvi5\\\\usr\\\\WPy64-31110\\\\python-3.11.1.amd64\\\\Lib\\\\site-packages\\\\win32', 'O:\\\\srcP\\\\cvi5\\\\usr\\\\WPy64-31110\\\\python-3.11.1.amd64\\\\Lib\\\\site-packages\\\\win32\\\\lib', 'O:\\\\srcP\\\\cvi5\\\\usr\\\\WPy64-31110\\\\python-3.11.1.amd64\\\\Lib\\\\site-packages\\\\Pythonwin']\n",
      "os.getenv(\"HOME\"): O:\\srcP\\cvi5\\usr\\WPy64-31110\\settings\n",
      "os.getenv(\"JUPYTER_CONFIG_DIR\"): O:\\srcP\\cvi5\\usr\\WPy64-31110\\python-3.11.1.amd64\\etc\\jupyter\n",
      "os.getenv(\"JUPYTER_DATA_DIR\"): O:\\srcP\\cvi5\\usr\\WPy64-31110\\settings\n",
      "os.getenv(\"LOCALAPPDATA\"): C:\\Users\\mpaulo\\AppData\\Local\n",
      "os.getenv(\"PYTHON\"): O:\\srcP\\cvi5\\usr\\WPy64-31110\\python-3.11.1.amd64\\python.exe\n",
      "os.getenv(\"WINPYDIR\"): O:\\srcP\\cvi5\\usr\\WPy64-31110\\python-3.11.1.amd64\n",
      "os.getenv(\"USERDNSDOMAIN\"): INTRA.FAZENDA.SP.GOV.BR\n",
      "CURRENT_PID = 4372\n",
      "CVI_RES = O:\\srcP\\cvi5\\res\n",
      "CVI_RESULT = O:\\srcP\\cvi5\\var\\result\n",
      "CVI_SYS_DATA_FILENAME = O:\\srcP\\cvi5\\var\\cvi_sys.json\n",
      "CVI_USR = O:\\srcP\\cvi5\\usr\n",
      "CVI_VAR = O:\\srcP\\cvi5\\var\n",
      "PROJECT_NAME = CVI\n",
      "PROJECT_VERSION = 5.1\n"
     ]
    }
   ],
   "source": [
    "import core.config as config\n",
    "config.printSettings()"
   ]
  },
  {
   "cell_type": "code",
   "execution_count": 3,
   "id": "fbd3716b",
   "metadata": {
    "ExecuteTime": {
     "end_time": "2023-04-05T20:39:34.284663Z",
     "start_time": "2023-04-05T20:39:34.236382Z"
    },
    "scrolled": false
   },
   "outputs": [
    {
     "name": "stdout",
     "output_type": "stream",
     "text": [
      "Lendo: ArqXMLExport_35211259104760000604550210001249661636956947.xml\n",
      "Lendo: ArqXMLExport_35211259104760000604550210001272731170044786.xml\n",
      "Lendo: ArqXMLExport_35211259104760000604550210001272771689490623.xml\n",
      "Lendo: ArqXMLExport_35211259104760000604550210001274971042340555.xml\n",
      "Lendo: ArqXMLExport_35211259104760000604550210001277671373390948.xml\n",
      "Lendo: ArqXMLExport_35211259104760000604550210001279261131698299.xml\n",
      "Lendo: ArqXMLExport_35211259104760000604550210001283081884202928.xml\n",
      "Lendo: ArqXMLExport_35211259104760000604550210001285101773381149.xml\n",
      "Lendo: ArqXMLExport_35211259104760000604550210001286201893645994.xml\n",
      "Lendo: ArqXMLExport_43211259104760000515550210000636411720531451.xml\n",
      "Lendo: ArqXMLExport_35211159104760000353550210000602881613487890.xml\n",
      "Lendo: ArqXMLExport_35211159104760000353550210000602911462227963.xml\n",
      "Lendo: ArqXMLExport_35211259104760000353550210000614121346834315.xml\n",
      "Lendo: ArqXMLExport_35211259104760000353550210000616321616334968.xml\n",
      "Lendo: ArqXMLExport_35211259104760000353550210000617261288615921.xml\n",
      "Lendo: ArqXMLExport_35211259104760000353550210000618651547374031.xml\n",
      "Lendo: ArqXMLExport_35211259104760000353550210000620841953013731.xml\n",
      "Lendo: ArqXMLExport_35211259104760000353550210000620991992244423.xml\n",
      "Lendo: ArqXMLExport_35211259104760000353550210000623621401475734.xml\n",
      "Lendo: ArqXMLExport_35211259104760000353550210000625471132111849.xml\n",
      "Lendo: ArqXMLExport_35211259104760000353550210000632791862489380.xml\n",
      "Lendo: ArqXMLExport_35211259104760000353550210000637471532700510.xml\n",
      "Lendo: ArqXMLExport_35211259104760000353550210000639281313236229.xml\n",
      "Lendo: ArqXMLExport_35211259104760000353550210000645491798751352.xml\n",
      "Lendo: ArqXMLExport_35211259104760000353550210000646011605236975.xml\n",
      "Lendo: ArqXMLExport_35211259104760000353550210000648001157085239.xml\n",
      "Lendo: ArqXMLExport_35211259104760000353550210000648071875396163.xml\n",
      "Lendo: ArqXMLExport_35211259104760000353550210000648181688836841.xml\n",
      "Lendo: ArqXMLExport_35211259104760000353550210000651711188197355.xml\n",
      "Lendo: ArqXMLExport_35211259104760000353550210000652061228236973.xml\n",
      "Lendo: ArqXMLExport_35211259104760000353550210000652351786213469.xml\n",
      "Lendo: ArqXMLExport_35211259104760000353550210000652401499445708.xml\n",
      "Lendo: ArqXMLExport_35211259104760000353550210000652451924626328.xml\n",
      "Lendo: ArqXMLExport_35211259104760000353550210000653941190781374.xml\n",
      "Lendo: ArqXMLExport_35211259104760000604550210001184391336419776.xml\n",
      "Lendo: ArqXMLExport_35211259104760000604550210001185781549931370.xml\n",
      "Lendo: ArqXMLExport_35211259104760000604550210001189141754389900.xml\n",
      "Lendo: ArqXMLExport_35211259104760000604550210001189181272088917.xml\n",
      "Lendo: ArqXMLExport_35211259104760000604550210001189561239279467.xml\n",
      "Lendo: ArqXMLExport_35211259104760000604550210001192371458897345.xml\n",
      "Lendo: ArqXMLExport_35211259104760000604550210001194791756864497.xml\n",
      "Lendo: ArqXMLExport_35211259104760000604550210001195331226576148.xml\n",
      "Lendo: ArqXMLExport_35211259104760000604550210001195841363232520.xml\n",
      "Lendo: ArqXMLExport_35211259104760000604550210001195871886650044.xml\n",
      "Lendo: ArqXMLExport_35211259104760000604550210001199301895102827.xml\n",
      "Lendo: ArqXMLExport_35211259104760000604550210001202451919079649.xml\n",
      "Lendo: ArqXMLExport_35211259104760000604550210001209151385157650.xml\n",
      "Lendo: ArqXMLExport_35211259104760000604550210001209201218832803.xml\n",
      "Lendo: ArqXMLExport_35211259104760000604550210001210451422058538.xml\n",
      "Lendo: ArqXMLExport_35211259104760000604550210001212421035951220.xml\n",
      "Lendo: ArqXMLExport_35211259104760000604550210001213241075618740.xml\n",
      "Lendo: ArqXMLExport_35211259104760000604550210001213771476329246.xml\n",
      "Lendo: ArqXMLExport_35211259104760000604550210001215601034177576.xml\n",
      "Lendo: ArqXMLExport_35211259104760000604550210001221811164382857.xml\n",
      "Lendo: ArqXMLExport_35211259104760000604550210001222341708567479.xml\n",
      "Lendo: ArqXMLExport_35211259104760000604550210001225381687642766.xml\n",
      "Lendo: ArqXMLExport_35211259104760000604550210001228101428305807.xml\n",
      "Lendo: ArqXMLExport_35211259104760000604550210001228131290764273.xml\n",
      "Lendo: ArqXMLExport_35211259104760000604550210001231651785872790.xml\n",
      "Lendo: ArqXMLExport_35211259104760000604550210001231981013225444.xml\n",
      "Lendo: ArqXMLExport_35211259104760000604550210001232321738197572.xml\n",
      "Lendo: ArqXMLExport_35211259104760000604550210001233941820643490.xml\n",
      "Lendo: ArqXMLExport_35211259104760000604550210001236341798263381.xml\n",
      "Lendo: ArqXMLExport_35211259104760000604550210001236361966837577.xml\n",
      "Lendo: ArqXMLExport_35211259104760000604550210001238021145238753.xml\n",
      "Lendo: ArqXMLExport_35211259104760000604550210001239731508232440.xml\n",
      "Lendo: ArqXMLExport_35211259104760000604550210001245761225510923.xml\n",
      "Lendo: ArqXMLExport_35211259104760000604550210001245841910856505.xml\n",
      "Lendo: ArqXMLExport_35211259104760000604550210001246981647972555.xml\n",
      "Lendo: ArqXMLExport_35211259104760000604550210001248751300546399.xml\n",
      "Lendo: ArqXMLExport_35211202682226000145550040001810291000144247.xml\n",
      "Lendo: ArqXMLExport_35211202682226000145550040001810531000108939.xml\n",
      "Lendo: ArqXMLExport_35211202682226000145550040001810641000131888.xml\n",
      "Lendo: ArqXMLExport_35211202682226000145550040001810781000144276.xml\n",
      "Lendo: ArqXMLExport_35211202682226000145550040001810821000136918.xml\n",
      "Lendo: ArqXMLExport_35211202682226000145550040001811101000144658.xml\n",
      "Lendo: ArqXMLExport_35211202682226000145550040001811131000143041.xml\n",
      "Lendo: ArqXMLExport_35211202682226000145550040001811491000144520.xml\n",
      "Lendo: ArqXMLExport_35211202682226000145550040001811981000146960.xml\n",
      "Lendo: ArqXMLExport_35211202682226000145550040001800621000110288.xml\n",
      "Lendo: ArqXMLExport_35211202682226000145550040001800691000110890.xml\n",
      "Lendo: ArqXMLExport_35211202682226000145550040001800741000109337.xml\n",
      "Lendo: ArqXMLExport_35211202682226000145550040001801121000102912.xml\n",
      "Lendo: ArqXMLExport_35211202682226000145550040001801301000101167.xml\n",
      "Lendo: ArqXMLExport_35211202682226000145550040001801381000111730.xml\n",
      "Lendo: ArqXMLExport_35211202682226000145550040001801391000081870.xml\n",
      "Lendo: ArqXMLExport_35211202682226000145550040001801411000081682.xml\n",
      "Lendo: ArqXMLExport_35211202682226000145550040001801811000115159.xml\n",
      "Lendo: ArqXMLExport_35211202682226000145550040001802071000114045.xml\n",
      "Lendo: ArqXMLExport_35211202682226000145550040001802091000010368.xml\n",
      "Lendo: ArqXMLExport_35211202682226000145550040001802241000107406.xml\n",
      "Lendo: ArqXMLExport_35211202682226000145550040001802491000118644.xml\n",
      "Lendo: ArqXMLExport_35211202682226000145550040001802501000108615.xml\n",
      "Lendo: ArqXMLExport_35211202682226000145550040001802901000081674.xml\n",
      "Lendo: ArqXMLExport_35211202682226000145550040001802911000106976.xml\n",
      "Lendo: ArqXMLExport_35211202682226000145550040001802921000118831.xml\n",
      "Lendo: ArqXMLExport_35211202682226000145550040001802961000119560.xml\n",
      "Lendo: ArqXMLExport_35211202682226000145550040001803081000091277.xml\n",
      "Lendo: ArqXMLExport_35211202682226000145550040001803351000113383.xml\n",
      "Lendo: ArqXMLExport_35211202682226000145550040001803361000100980.xml\n",
      "Lendo: ArqXMLExport_35211202682226000145550040001803371000108813.xml\n",
      "Lendo: ArqXMLExport_35211202682226000145550040001803431000092213.xml\n",
      "Lendo: ArqXMLExport_35211202682226000145550040001803651000119151.xml\n",
      "Lendo: ArqXMLExport_35211202682226000145550040001803701000108621.xml\n",
      "Lendo: ArqXMLExport_35211202682226000145550040001803711000108637.xml\n",
      "Lendo: ArqXMLExport_35211202682226000145550040001803721000108588.xml\n",
      "Lendo: ArqXMLExport_35211202682226000145550040001804121000119102.xml\n",
      "Lendo: ArqXMLExport_35211202682226000145550040001804151000112770.xml\n",
      "Lendo: ArqXMLExport_35211202682226000145550040001804161000123974.xml\n",
      "Lendo: ArqXMLExport_35211202682226000145550040001804171000101560.xml\n",
      "Lendo: ArqXMLExport_35211202682226000145550040001804181000122573.xml\n",
      "Lendo: ArqXMLExport_35211202682226000145550040001804431000121286.xml\n",
      "Lendo: ArqXMLExport_35211202682226000145550040001804571000119473.xml\n",
      "Lendo: ArqXMLExport_35211202682226000145550040001804581000121335.xml\n",
      "Lendo: ArqXMLExport_35211202682226000145550040001804731000010343.xml\n",
      "Lendo: ArqXMLExport_35211202682226000145550040001804741000112569.xml\n",
      "Lendo: ArqXMLExport_35211202682226000145550040001804751000121409.xml\n",
      "Lendo: ArqXMLExport_35211202682226000145550040001804761000126548.xml\n",
      "Lendo: ArqXMLExport_35211202682226000145550040001804991000010226.xml\n",
      "Lendo: ArqXMLExport_35211202682226000145550040001805071000092919.xml\n",
      "Lendo: ArqXMLExport_35211202682226000145550040001805231000121343.xml\n",
      "Lendo: ArqXMLExport_35211202682226000145550040001805271000125518.xml\n",
      "Lendo: ArqXMLExport_35211202682226000145550040001805611000118912.xml\n",
      "Lendo: ArqXMLExport_35211202682226000145550040001805861000010061.xml\n",
      "Lendo: ArqXMLExport_35211202682226000145550040001805881000131041.xml\n",
      "Lendo: ArqXMLExport_35211202682226000145550040001806041000120886.xml\n",
      "Lendo: ArqXMLExport_35211202682226000145550040001806411000129550.xml\n",
      "Lendo: ArqXMLExport_35211202682226000145550040001806501000010080.xml\n",
      "Lendo: ArqXMLExport_35211202682226000145550040001806701000120784.xml\n",
      "Lendo: ArqXMLExport_35211202682226000145550040001807191000111583.xml\n",
      "Lendo: ArqXMLExport_35211202682226000145550040001807381000072915.xml\n",
      "Lendo: ArqXMLExport_35211202682226000145550040001807511000132944.xml\n",
      "Lendo: ArqXMLExport_35211202682226000145550040001807521000135282.xml\n",
      "Lendo: ArqXMLExport_35211202682226000145550040001807621000010460.xml\n",
      "Lendo: ArqXMLExport_35211202682226000145550040001808331000010471.xml\n",
      "Lendo: ArqXMLExport_35211202682226000145550040001808471000103343.xml\n",
      "Lendo: ArqXMLExport_35211202682226000145550040001808701000139567.xml\n",
      "Lendo: ArqXMLExport_35211202682226000145550040001808751000124086.xml\n",
      "Lendo: ArqXMLExport_35211202682226000145550040001808811000113740.xml\n",
      "Lendo: ArqXMLExport_35211202682226000145550040001808991000114996.xml\n",
      "Lendo: ArqXMLExport_35211202682226000145550040001809241000102933.xml\n",
      "Lendo: ArqXMLExport_35211202682226000145550040001809441000121353.xml\n",
      "Lendo: ArqXMLExport_35211202682226000145550040001809461000142630.xml\n",
      "Lendo: ArqXMLExport_35211202682226000145550040001809721000139079.xml\n",
      "Lendo: ArqXMLExport_35211202682226000145550040001809811000111696.xml\n",
      "Lendo: ArqXMLExport_35211202682226000145550040001809831000140437.xml\n",
      "Lendo: ArqXMLExport_35211202682226000145550040001809911000140242.xml\n",
      "Lendo: ArqXMLExport_35211202682226000145550040001810221000136260.xml\n",
      "Lendo: ArqXMLExport_35211202682226000145550040001810261000124376.xml\n",
      "Lendo: ArqXMLExport_35211159104760000353550210000610701717925567.xml\n"
     ]
    },
    {
     "name": "stdout",
     "output_type": "stream",
     "text": [
      "Gerado o arquivo de nfes  O:\\srcP\\cvi5\\var\\result\\61403176000189\\xml\\nfes.txt\n",
      "Gerado o arquivo de nfes_itens  O:\\srcP\\cvi5\\var\\result\\61403176000189\\xml\\nfe_itens.txt\n"
     ]
    }
   ],
   "source": [
    "# filename = 'NFe35190102682226000145550040001301791003166530_procNFe.xml'\n",
    "# dados = xml_dfe_itens(os.path.join(XML_FOLDER, filename))\n",
    "# xml_dfe_dados_to_text(filename, dados)\n",
    "import os\n",
    "from core.pycvi import xml_dfe\n",
    "xml_folder = os.path.join(config.settings.CVI_RESULT, '61403176000189', 'xml')\n",
    "xml_dfe.xml_dfe_allxmls_nfes(xml_folder, \"nfes\")\n",
    "xml_dfe.xml_dfe_allxmls_itens(xml_folder, \"nfe_itens\")"
   ]
  },
  {
   "cell_type": "code",
   "execution_count": null,
   "id": "59cafdc0",
   "metadata": {},
   "outputs": [],
   "source": []
  }
 ],
 "metadata": {
  "kernelspec": {
   "display_name": "Python 3 (ipykernel)",
   "language": "python",
   "name": "python3"
  },
  "language_info": {
   "codemirror_mode": {
    "name": "ipython",
    "version": 3
   },
   "file_extension": ".py",
   "mimetype": "text/x-python",
   "name": "python",
   "nbconvert_exporter": "python",
   "pygments_lexer": "ipython3",
   "version": "3.10.9"
  },
  "varInspector": {
   "cols": {
    "lenName": 16,
    "lenType": 16,
    "lenVar": 40
   },
   "kernels_config": {
    "python": {
     "delete_cmd_postfix": "",
     "delete_cmd_prefix": "del ",
     "library": "var_list.py",
     "varRefreshCmd": "print(var_dic_list())"
    },
    "r": {
     "delete_cmd_postfix": ") ",
     "delete_cmd_prefix": "rm(",
     "library": "var_list.r",
     "varRefreshCmd": "cat(var_dic_list()) "
    }
   },
   "types_to_exclude": [
    "module",
    "function",
    "builtin_function_or_method",
    "instance",
    "_Feature"
   ],
   "window_display": false
  }
 },
 "nbformat": 4,
 "nbformat_minor": 5
}
